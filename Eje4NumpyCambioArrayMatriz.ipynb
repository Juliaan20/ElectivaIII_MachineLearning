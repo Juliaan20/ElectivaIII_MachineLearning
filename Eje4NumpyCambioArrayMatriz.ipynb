{
 "cells": [
  {
   "cell_type": "code",
   "execution_count": 1,
   "id": "f610a881",
   "metadata": {},
   "outputs": [],
   "source": [
    "import numpy as np"
   ]
  },
  {
   "cell_type": "code",
   "execution_count": 5,
   "id": "7d291c44",
   "metadata": {},
   "outputs": [],
   "source": [
    "#Funcion que nos permite crear una matriz basado en los elementos de un arreglo\n",
    "array = np.random.randint(1,10,28)"
   ]
  },
  {
   "cell_type": "code",
   "execution_count": 3,
   "id": "ea238007",
   "metadata": {},
   "outputs": [
    {
     "data": {
      "text/plain": [
       "array([8, 6, 8, 9, 7, 3, 5, 7, 7, 7, 6, 9, 7, 8, 1, 2, 2, 3, 6, 1, 5, 7,\n",
       "       4, 5, 8])"
      ]
     },
     "execution_count": 3,
     "metadata": {},
     "output_type": "execute_result"
    }
   ],
   "source": [
    "array"
   ]
  },
  {
   "cell_type": "code",
   "execution_count": 10,
   "id": "00f49aba",
   "metadata": {},
   "outputs": [],
   "source": [
    "#la multiplziacion de los valores tiene que dar el valor del array\n",
    "matriz = array.reshape(7,4)"
   ]
  },
  {
   "cell_type": "raw",
   "id": "744222c2",
   "metadata": {},
   "source": [
    "matriz"
   ]
  },
  {
   "cell_type": "markdown",
   "id": "8921e87f",
   "metadata": {},
   "source": []
  },
  {
   "cell_type": "code",
   "execution_count": 9,
   "id": "32412aa7",
   "metadata": {},
   "outputs": [
    {
     "data": {
      "text/plain": [
       "array([[4, 2, 1, 1],\n",
       "       [9, 2, 5, 9],\n",
       "       [3, 9, 1, 6],\n",
       "       [8, 8, 6, 2],\n",
       "       [5, 4, 4, 9],\n",
       "       [4, 7, 3, 5],\n",
       "       [5, 1, 8, 5]])"
      ]
     },
     "execution_count": 9,
     "metadata": {},
     "output_type": "execute_result"
    }
   ],
   "source": [
    "matriz"
   ]
  },
  {
   "cell_type": "code",
   "execution_count": null,
   "id": "c200740a",
   "metadata": {},
   "outputs": [],
   "source": [
    "\n",
    "\n"
   ]
  }
 ],
 "metadata": {
  "kernelspec": {
   "display_name": "Python 3",
   "language": "python",
   "name": "python3"
  },
  "language_info": {
   "codemirror_mode": {
    "name": "ipython",
    "version": 3
   },
   "file_extension": ".py",
   "mimetype": "text/x-python",
   "name": "python",
   "nbconvert_exporter": "python",
   "pygments_lexer": "ipython3",
   "version": "3.8.8"
  }
 },
 "nbformat": 4,
 "nbformat_minor": 5
}
