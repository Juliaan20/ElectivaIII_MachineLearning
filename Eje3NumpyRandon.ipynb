{
 "cells": [
  {
   "cell_type": "code",
   "execution_count": 1,
   "id": "c5aa28f5",
   "metadata": {},
   "outputs": [],
   "source": [
    "import numpy as np"
   ]
  },
  {
   "cell_type": "code",
   "execution_count": 3,
   "id": "01b6d0f8",
   "metadata": {},
   "outputs": [
    {
     "data": {
      "text/plain": [
       "array([0.78892189, 0.59560505, 0.02308628, 0.92537288, 0.38028925])"
      ]
     },
     "execution_count": 3,
     "metadata": {},
     "output_type": "execute_result"
    }
   ],
   "source": [
    "np.random.rand(5)"
   ]
  },
  {
   "cell_type": "code",
   "execution_count": 4,
   "id": "ac6f7a8f",
   "metadata": {},
   "outputs": [
    {
     "data": {
      "text/plain": [
       "array([[0.95146481, 0.04273758, 0.88368025],\n",
       "       [0.03255846, 0.05520786, 0.27680393],\n",
       "       [0.69912871, 0.03200318, 0.02322781],\n",
       "       [0.14397684, 0.0539674 , 0.43240184],\n",
       "       [0.75800885, 0.71157722, 0.11065339]])"
      ]
     },
     "execution_count": 4,
     "metadata": {},
     "output_type": "execute_result"
    }
   ],
   "source": [
    "np.random.rand(5, 3)"
   ]
  },
  {
   "cell_type": "code",
   "execution_count": 5,
   "id": "c3adf5d3",
   "metadata": {},
   "outputs": [
    {
     "data": {
      "text/plain": [
       "array([ 0.88096689,  0.72701789, -0.80967546, -0.93241828,  0.09128288])"
      ]
     },
     "execution_count": 5,
     "metadata": {},
     "output_type": "execute_result"
    }
   ],
   "source": [
    "np.random.randn(5)"
   ]
  },
  {
   "cell_type": "code",
   "execution_count": 6,
   "id": "5754c012",
   "metadata": {},
   "outputs": [
    {
     "data": {
      "text/plain": [
       "array([[ 1.03087812,  0.05853294, -1.06342715],\n",
       "       [-0.81388337,  0.43685044,  1.51142546],\n",
       "       [ 0.89784596,  0.15110246,  1.10666145],\n",
       "       [ 0.46711734, -1.01583482, -0.92854102],\n",
       "       [-0.25620688, -0.96676858, -0.32111352]])"
      ]
     },
     "execution_count": 6,
     "metadata": {},
     "output_type": "execute_result"
    }
   ],
   "source": [
    "np.random.randn(5, 3)"
   ]
  },
  {
   "cell_type": "code",
   "execution_count": 7,
   "id": "1d9cd015",
   "metadata": {},
   "outputs": [
    {
     "data": {
      "text/plain": [
       "16"
      ]
     },
     "execution_count": 7,
     "metadata": {},
     "output_type": "execute_result"
    }
   ],
   "source": [
    "#numeros aleatorios enteros\n",
    "np.random.randint(1,20)"
   ]
  },
  {
   "cell_type": "code",
   "execution_count": 8,
   "id": "ac364797",
   "metadata": {},
   "outputs": [
    {
     "data": {
      "text/plain": [
       "3"
      ]
     },
     "execution_count": 8,
     "metadata": {},
     "output_type": "execute_result"
    }
   ],
   "source": [
    "np.random.randint(1,20)"
   ]
  },
  {
   "cell_type": "code",
   "execution_count": 9,
   "id": "050a6068",
   "metadata": {},
   "outputs": [
    {
     "data": {
      "text/plain": [
       "array([16, 18, 11,  5, 11,  8])"
      ]
     },
     "execution_count": 9,
     "metadata": {},
     "output_type": "execute_result"
    }
   ],
   "source": [
    "np.random.randint(1,20,6)"
   ]
  },
  {
   "cell_type": "code",
   "execution_count": 10,
   "id": "3b30089e",
   "metadata": {},
   "outputs": [],
   "source": [
    "#Valors posicion, maximo y minimos de un array despues de un random\n",
    "array = np.random.randint(1,20,50)"
   ]
  },
  {
   "cell_type": "code",
   "execution_count": 11,
   "id": "3a568f61",
   "metadata": {},
   "outputs": [
    {
     "data": {
      "text/plain": [
       "array([ 1, 10, 14,  7,  5, 16,  7,  4,  1,  8,  3,  4,  9, 10, 12,  5,  7,\n",
       "        1,  4, 17,  1,  3,  3,  8,  3,  9,  9, 13, 14,  2, 11,  8,  5, 13,\n",
       "       13, 19,  8,  5, 15, 14, 14, 18, 17,  5, 10, 17, 16,  3,  6, 11])"
      ]
     },
     "execution_count": 11,
     "metadata": {},
     "output_type": "execute_result"
    }
   ],
   "source": [
    "array"
   ]
  },
  {
   "cell_type": "code",
   "execution_count": 14,
   "id": "d58c7a6f",
   "metadata": {},
   "outputs": [],
   "source": [
    "val_max = array.max()"
   ]
  },
  {
   "cell_type": "code",
   "execution_count": 15,
   "id": "3068dbe0",
   "metadata": {},
   "outputs": [
    {
     "data": {
      "text/plain": [
       "19"
      ]
     },
     "execution_count": 15,
     "metadata": {},
     "output_type": "execute_result"
    }
   ],
   "source": [
    "val_max"
   ]
  },
  {
   "cell_type": "code",
   "execution_count": 16,
   "id": "c30ce847",
   "metadata": {},
   "outputs": [],
   "source": [
    "posi_val_max = array.argmax()"
   ]
  },
  {
   "cell_type": "code",
   "execution_count": 17,
   "id": "d0213841",
   "metadata": {},
   "outputs": [
    {
     "data": {
      "text/plain": [
       "35"
      ]
     },
     "execution_count": 17,
     "metadata": {},
     "output_type": "execute_result"
    }
   ],
   "source": [
    "posi_val_max"
   ]
  },
  {
   "cell_type": "code",
   "execution_count": 18,
   "id": "7dc7531a",
   "metadata": {},
   "outputs": [],
   "source": [
    "val_min = array.min()"
   ]
  },
  {
   "cell_type": "code",
   "execution_count": 19,
   "id": "8b8dc403",
   "metadata": {},
   "outputs": [
    {
     "data": {
      "text/plain": [
       "1"
      ]
     },
     "execution_count": 19,
     "metadata": {},
     "output_type": "execute_result"
    }
   ],
   "source": [
    "val_min"
   ]
  },
  {
   "cell_type": "code",
   "execution_count": 21,
   "id": "586f927d",
   "metadata": {},
   "outputs": [],
   "source": [
    "posi_val_min = array.argmin()"
   ]
  },
  {
   "cell_type": "code",
   "execution_count": 22,
   "id": "3a595842",
   "metadata": {},
   "outputs": [
    {
     "data": {
      "text/plain": [
       "0"
      ]
     },
     "execution_count": 22,
     "metadata": {},
     "output_type": "execute_result"
    }
   ],
   "source": [
    "posi_val_min"
   ]
  },
  {
   "cell_type": "code",
   "execution_count": 23,
   "id": "26a26dc8",
   "metadata": {},
   "outputs": [],
   "source": [
    "#Indexar array"
   ]
  },
  {
   "cell_type": "code",
   "execution_count": 24,
   "id": "94bf1c17",
   "metadata": {},
   "outputs": [],
   "source": [
    "array = np.arange(0,10)"
   ]
  },
  {
   "cell_type": "code",
   "execution_count": 25,
   "id": "cdfe42ea",
   "metadata": {},
   "outputs": [
    {
     "data": {
      "text/plain": [
       "array([0, 1, 2, 3, 4, 5, 6, 7, 8, 9])"
      ]
     },
     "execution_count": 25,
     "metadata": {},
     "output_type": "execute_result"
    }
   ],
   "source": [
    "array"
   ]
  },
  {
   "cell_type": "code",
   "execution_count": 26,
   "id": "eb9f2f1c",
   "metadata": {},
   "outputs": [
    {
     "data": {
      "text/plain": [
       "0"
      ]
     },
     "execution_count": 26,
     "metadata": {},
     "output_type": "execute_result"
    }
   ],
   "source": [
    "array[0]"
   ]
  },
  {
   "cell_type": "code",
   "execution_count": 27,
   "id": "351138e7",
   "metadata": {},
   "outputs": [
    {
     "data": {
      "text/plain": [
       "array([3, 4])"
      ]
     },
     "execution_count": 27,
     "metadata": {},
     "output_type": "execute_result"
    }
   ],
   "source": [
    "array[3:5]"
   ]
  },
  {
   "cell_type": "code",
   "execution_count": 28,
   "id": "656bfd72",
   "metadata": {},
   "outputs": [
    {
     "data": {
      "text/plain": [
       "array([0, 1, 2, 3, 4, 5, 6, 7, 8, 9])"
      ]
     },
     "execution_count": 28,
     "metadata": {},
     "output_type": "execute_result"
    }
   ],
   "source": [
    "array[:]"
   ]
  },
  {
   "cell_type": "code",
   "execution_count": 29,
   "id": "b3fed142",
   "metadata": {},
   "outputs": [
    {
     "data": {
      "text/plain": [
       "array([5, 6, 7, 8, 9])"
      ]
     },
     "execution_count": 29,
     "metadata": {},
     "output_type": "execute_result"
    }
   ],
   "source": [
    "array[5:]"
   ]
  },
  {
   "cell_type": "code",
   "execution_count": 30,
   "id": "90258dd3",
   "metadata": {},
   "outputs": [
    {
     "data": {
      "text/plain": [
       "array([0, 1, 2, 3])"
      ]
     },
     "execution_count": 30,
     "metadata": {},
     "output_type": "execute_result"
    }
   ],
   "source": [
    "array[:4]"
   ]
  },
  {
   "cell_type": "code",
   "execution_count": 31,
   "id": "9e601924",
   "metadata": {},
   "outputs": [],
   "source": [
    "#Generar una copia de una arreglo \n",
    "\n",
    "array2 = array.copy()"
   ]
  },
  {
   "cell_type": "code",
   "execution_count": 32,
   "id": "769b9828",
   "metadata": {},
   "outputs": [
    {
     "data": {
      "text/plain": [
       "array([0, 1, 2, 3, 4, 5, 6, 7, 8, 9])"
      ]
     },
     "execution_count": 32,
     "metadata": {},
     "output_type": "execute_result"
    }
   ],
   "source": [
    "array2"
   ]
  },
  {
   "cell_type": "code",
   "execution_count": 34,
   "id": "bd1085e9",
   "metadata": {},
   "outputs": [],
   "source": [
    "#Indexar array 2 o mas dimensiones\n",
    "array = np.array([[1,2,3],[6,5,4],[9,8,7]])"
   ]
  },
  {
   "cell_type": "code",
   "execution_count": 35,
   "id": "7dc02c32",
   "metadata": {},
   "outputs": [
    {
     "data": {
      "text/plain": [
       "array([[1, 2, 3],\n",
       "       [6, 5, 4],\n",
       "       [9, 8, 7]])"
      ]
     },
     "execution_count": 35,
     "metadata": {},
     "output_type": "execute_result"
    }
   ],
   "source": [
    "array"
   ]
  },
  {
   "cell_type": "code",
   "execution_count": 36,
   "id": "b85fcea4",
   "metadata": {},
   "outputs": [
    {
     "data": {
      "text/plain": [
       "array([6, 5, 4])"
      ]
     },
     "execution_count": 36,
     "metadata": {},
     "output_type": "execute_result"
    }
   ],
   "source": [
    "array[1]"
   ]
  },
  {
   "cell_type": "code",
   "execution_count": 37,
   "id": "d6caa83b",
   "metadata": {},
   "outputs": [
    {
     "data": {
      "text/plain": [
       "array([[1, 2, 3],\n",
       "       [6, 5, 4]])"
      ]
     },
     "execution_count": 37,
     "metadata": {},
     "output_type": "execute_result"
    }
   ],
   "source": [
    "array[:2]"
   ]
  },
  {
   "cell_type": "code",
   "execution_count": 38,
   "id": "0e88f36c",
   "metadata": {},
   "outputs": [
    {
     "data": {
      "text/plain": [
       "1"
      ]
     },
     "execution_count": 38,
     "metadata": {},
     "output_type": "execute_result"
    }
   ],
   "source": [
    "array[0][0]"
   ]
  },
  {
   "cell_type": "code",
   "execution_count": 42,
   "id": "610301f1",
   "metadata": {},
   "outputs": [
    {
     "data": {
      "text/plain": [
       "array([1, 6, 9])"
      ]
     },
     "execution_count": 42,
     "metadata": {},
     "output_type": "execute_result"
    }
   ],
   "source": [
    "array[:,0][:]"
   ]
  },
  {
   "cell_type": "code",
   "execution_count": 43,
   "id": "ee040ec1",
   "metadata": {},
   "outputs": [],
   "source": [
    "#Seleccionar elementos de un array con condición\n",
    "\n",
    "array = np.arange(0,10)"
   ]
  },
  {
   "cell_type": "code",
   "execution_count": 44,
   "id": "84089c7d",
   "metadata": {},
   "outputs": [
    {
     "data": {
      "text/plain": [
       "array([0, 1, 2, 3, 4, 5, 6, 7, 8, 9])"
      ]
     },
     "execution_count": 44,
     "metadata": {},
     "output_type": "execute_result"
    }
   ],
   "source": [
    "array"
   ]
  },
  {
   "cell_type": "code",
   "execution_count": 45,
   "id": "da070e61",
   "metadata": {},
   "outputs": [],
   "source": [
    "condicion  = array > 4"
   ]
  },
  {
   "cell_type": "code",
   "execution_count": 46,
   "id": "d9a50cd6",
   "metadata": {},
   "outputs": [
    {
     "data": {
      "text/plain": [
       "array([False, False, False, False, False,  True,  True,  True,  True,\n",
       "        True])"
      ]
     },
     "execution_count": 46,
     "metadata": {},
     "output_type": "execute_result"
    }
   ],
   "source": [
    "condicion"
   ]
  },
  {
   "cell_type": "code",
   "execution_count": 47,
   "id": "f63c13ca",
   "metadata": {},
   "outputs": [
    {
     "data": {
      "text/plain": [
       "array([5, 6, 7, 8, 9])"
      ]
     },
     "execution_count": 47,
     "metadata": {},
     "output_type": "execute_result"
    }
   ],
   "source": [
    "array[condicion]"
   ]
  },
  {
   "cell_type": "code",
   "execution_count": 48,
   "id": "5271040b",
   "metadata": {},
   "outputs": [
    {
     "data": {
      "text/plain": [
       "array([0, 1, 2, 3, 4, 5, 6, 7, 8, 9])"
      ]
     },
     "execution_count": 48,
     "metadata": {},
     "output_type": "execute_result"
    }
   ],
   "source": [
    "array"
   ]
  },
  {
   "cell_type": "code",
   "execution_count": 49,
   "id": "bdad97f5",
   "metadata": {},
   "outputs": [
    {
     "data": {
      "text/plain": [
       "array([0, 2, 4, 6, 8])"
      ]
     },
     "execution_count": 49,
     "metadata": {},
     "output_type": "execute_result"
    }
   ],
   "source": [
    "array[array % 2 ==0]"
   ]
  },
  {
   "cell_type": "code",
   "execution_count": 53,
   "id": "ab9dd98c",
   "metadata": {},
   "outputs": [],
   "source": [
    "#Operaciones sobre los arrays\n",
    "array = np.arange(1,20)\n"
   ]
  },
  {
   "cell_type": "code",
   "execution_count": 54,
   "id": "11bcaa28",
   "metadata": {},
   "outputs": [
    {
     "data": {
      "text/plain": [
       "array([ 1,  2,  3,  4,  5,  6,  7,  8,  9, 10, 11, 12, 13, 14, 15, 16, 17,\n",
       "       18, 19])"
      ]
     },
     "execution_count": 54,
     "metadata": {},
     "output_type": "execute_result"
    }
   ],
   "source": [
    "array"
   ]
  },
  {
   "cell_type": "code",
   "execution_count": 55,
   "id": "da7d9b7c",
   "metadata": {},
   "outputs": [
    {
     "data": {
      "text/plain": [
       "array([ 2,  4,  6,  8, 10, 12, 14, 16, 18, 20, 22, 24, 26, 28, 30, 32, 34,\n",
       "       36, 38])"
      ]
     },
     "execution_count": 55,
     "metadata": {},
     "output_type": "execute_result"
    }
   ],
   "source": [
    "array + array"
   ]
  },
  {
   "cell_type": "code",
   "execution_count": 56,
   "id": "f0c9907c",
   "metadata": {},
   "outputs": [
    {
     "data": {
      "text/plain": [
       "array([0, 0, 0, 0, 0, 0, 0, 0, 0, 0, 0, 0, 0, 0, 0, 0, 0, 0, 0])"
      ]
     },
     "execution_count": 56,
     "metadata": {},
     "output_type": "execute_result"
    }
   ],
   "source": [
    "array - array"
   ]
  },
  {
   "cell_type": "code",
   "execution_count": 57,
   "id": "6909bc0d",
   "metadata": {},
   "outputs": [
    {
     "data": {
      "text/plain": [
       "array([ 2,  4,  6,  8, 10, 12, 14, 16, 18, 20, 22, 24, 26, 28, 30, 32, 34,\n",
       "       36, 38])"
      ]
     },
     "execution_count": 57,
     "metadata": {},
     "output_type": "execute_result"
    }
   ],
   "source": [
    "array * 2\n"
   ]
  },
  {
   "cell_type": "code",
   "execution_count": 58,
   "id": "7a1015ec",
   "metadata": {},
   "outputs": [
    {
     "data": {
      "text/plain": [
       "array([ 6,  7,  8,  9, 10, 11, 12, 13, 14, 15, 16, 17, 18, 19, 20, 21, 22,\n",
       "       23, 24])"
      ]
     },
     "execution_count": 58,
     "metadata": {},
     "output_type": "execute_result"
    }
   ],
   "source": [
    "array + 5"
   ]
  },
  {
   "cell_type": "code",
   "execution_count": 59,
   "id": "8bfb2e3b",
   "metadata": {},
   "outputs": [
    {
     "data": {
      "text/plain": [
       "19"
      ]
     },
     "execution_count": 59,
     "metadata": {},
     "output_type": "execute_result"
    }
   ],
   "source": [
    "np.max(array)"
   ]
  },
  {
   "cell_type": "code",
   "execution_count": null,
   "id": "a31f4c12",
   "metadata": {},
   "outputs": [],
   "source": []
  }
 ],
 "metadata": {
  "kernelspec": {
   "display_name": "Python 3",
   "language": "python",
   "name": "python3"
  },
  "language_info": {
   "codemirror_mode": {
    "name": "ipython",
    "version": 3
   },
   "file_extension": ".py",
   "mimetype": "text/x-python",
   "name": "python",
   "nbconvert_exporter": "python",
   "pygments_lexer": "ipython3",
   "version": "3.8.8"
  }
 },
 "nbformat": 4,
 "nbformat_minor": 5
}
