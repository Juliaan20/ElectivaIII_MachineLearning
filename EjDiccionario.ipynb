{
 "cells": [
  {
   "cell_type": "code",
   "execution_count": 1,
   "id": "e1ec738a",
   "metadata": {},
   "outputs": [],
   "source": [
    "#Un conjunto de elementos clave - valor no ordenados"
   ]
  },
  {
   "cell_type": "code",
   "execution_count": 9,
   "id": "bf586925",
   "metadata": {},
   "outputs": [],
   "source": [
    "diccionario = {'clave1':'valor1', 'clave2':'valor2'}"
   ]
  },
  {
   "cell_type": "code",
   "execution_count": 10,
   "id": "cd4fa8ca",
   "metadata": {},
   "outputs": [
    {
     "data": {
      "text/plain": [
       "'valor1'"
      ]
     },
     "execution_count": 10,
     "metadata": {},
     "output_type": "execute_result"
    }
   ],
   "source": [
    "diccionario['clave1']"
   ]
  },
  {
   "cell_type": "code",
   "execution_count": 12,
   "id": "d97a83e1",
   "metadata": {},
   "outputs": [],
   "source": [
    "datosPersonales = {'nombre':'Hector', 'apellido':'sanchez', 'edad':34}"
   ]
  },
  {
   "cell_type": "code",
   "execution_count": 13,
   "id": "fbe2196f",
   "metadata": {},
   "outputs": [
    {
     "data": {
      "text/plain": [
       "'Hector'"
      ]
     },
     "execution_count": 13,
     "metadata": {},
     "output_type": "execute_result"
    }
   ],
   "source": [
    "datosPersonales['nombre']"
   ]
  },
  {
   "cell_type": "code",
   "execution_count": 14,
   "id": "c82a0cec",
   "metadata": {},
   "outputs": [
    {
     "data": {
      "text/plain": [
       "'sanchez'"
      ]
     },
     "execution_count": 14,
     "metadata": {},
     "output_type": "execute_result"
    }
   ],
   "source": [
    "datosPersonales['apellido']"
   ]
  },
  {
   "cell_type": "code",
   "execution_count": null,
   "id": "70705b5c",
   "metadata": {},
   "outputs": [],
   "source": []
  }
 ],
 "metadata": {
  "kernelspec": {
   "display_name": "Python 3",
   "language": "python",
   "name": "python3"
  },
  "language_info": {
   "codemirror_mode": {
    "name": "ipython",
    "version": 3
   },
   "file_extension": ".py",
   "mimetype": "text/x-python",
   "name": "python",
   "nbconvert_exporter": "python",
   "pygments_lexer": "ipython3",
   "version": "3.8.8"
  }
 },
 "nbformat": 4,
 "nbformat_minor": 5
}
