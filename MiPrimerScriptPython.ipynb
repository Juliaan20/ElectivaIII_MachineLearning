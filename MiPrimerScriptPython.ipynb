{
 "cells": [
  {
   "cell_type": "code",
   "execution_count": 1,
   "id": "2eb03272",
   "metadata": {},
   "outputs": [
    {
     "data": {
      "text/plain": [
       "1.5"
      ]
     },
     "execution_count": 1,
     "metadata": {},
     "output_type": "execute_result"
    }
   ],
   "source": [
    "3/2\n"
   ]
  },
  {
   "cell_type": "code",
   "execution_count": 2,
   "id": "0c558c24",
   "metadata": {},
   "outputs": [
    {
     "data": {
      "text/plain": [
       "14"
      ]
     },
     "execution_count": 2,
     "metadata": {},
     "output_type": "execute_result"
    }
   ],
   "source": [
    "6+8"
   ]
  },
  {
   "cell_type": "code",
   "execution_count": 3,
   "id": "fa5faeff",
   "metadata": {},
   "outputs": [
    {
     "data": {
      "text/plain": [
       "5.0"
      ]
     },
     "execution_count": 3,
     "metadata": {},
     "output_type": "execute_result"
    }
   ],
   "source": [
    "10/2"
   ]
  },
  {
   "cell_type": "code",
   "execution_count": 4,
   "id": "fc7742a4",
   "metadata": {},
   "outputs": [
    {
     "data": {
      "text/plain": [
       "25"
      ]
     },
     "execution_count": 4,
     "metadata": {},
     "output_type": "execute_result"
    }
   ],
   "source": [
    "70-45"
   ]
  },
  {
   "cell_type": "code",
   "execution_count": 5,
   "id": "91236e5b",
   "metadata": {},
   "outputs": [],
   "source": [
    "variable = 5"
   ]
  },
  {
   "cell_type": "code",
   "execution_count": 6,
   "id": "73ef9e6b",
   "metadata": {},
   "outputs": [
    {
     "data": {
      "text/plain": [
       "15"
      ]
     },
     "execution_count": 6,
     "metadata": {},
     "output_type": "execute_result"
    }
   ],
   "source": [
    "variable * 3"
   ]
  },
  {
   "cell_type": "code",
   "execution_count": 12,
   "id": "c6d6e173",
   "metadata": {},
   "outputs": [
    {
     "name": "stdout",
     "output_type": "stream",
     "text": [
      "30\n"
     ]
    }
   ],
   "source": [
    "var1 = 10\n",
    "var2 = 20\n",
    "resultado = var1 + var2\n",
    "print(resultado)"
   ]
  },
  {
   "cell_type": "code",
   "execution_count": 11,
   "id": "66cdd9d3",
   "metadata": {},
   "outputs": [
    {
     "name": "stdout",
     "output_type": "stream",
     "text": [
      "30\n"
     ]
    }
   ],
   "source": [
    "print(resultado)"
   ]
  },
  {
   "cell_type": "code",
   "execution_count": 9,
   "id": "41140495",
   "metadata": {},
   "outputs": [
    {
     "data": {
      "text/plain": [
       "30"
      ]
     },
     "execution_count": 9,
     "metadata": {},
     "output_type": "execute_result"
    }
   ],
   "source": [
    "resultado"
   ]
  },
  {
   "cell_type": "code",
   "execution_count": 13,
   "id": "8132b7cf",
   "metadata": {},
   "outputs": [
    {
     "data": {
      "text/plain": [
       "'texto del martes'"
      ]
     },
     "execution_count": 13,
     "metadata": {},
     "output_type": "execute_result"
    }
   ],
   "source": [
    "\"texto del martes\""
   ]
  },
  {
   "cell_type": "code",
   "execution_count": 14,
   "id": "2d9bdb9d",
   "metadata": {},
   "outputs": [
    {
     "data": {
      "text/plain": [
       "'texto corhuila'"
      ]
     },
     "execution_count": 14,
     "metadata": {},
     "output_type": "execute_result"
    }
   ],
   "source": [
    "'texto corhuila'"
   ]
  },
  {
   "cell_type": "code",
   "execution_count": 15,
   "id": "407c3959",
   "metadata": {},
   "outputs": [],
   "source": [
    "tex1 = \"Hector Sanchez\""
   ]
  },
  {
   "cell_type": "code",
   "execution_count": 16,
   "id": "e71c583e",
   "metadata": {},
   "outputs": [
    {
     "data": {
      "text/plain": [
       "'Hector Sanchez'"
      ]
     },
     "execution_count": 16,
     "metadata": {},
     "output_type": "execute_result"
    }
   ],
   "source": [
    "tex1"
   ]
  },
  {
   "cell_type": "code",
   "execution_count": 17,
   "id": "c8fc521c",
   "metadata": {},
   "outputs": [
    {
     "name": "stdout",
     "output_type": "stream",
     "text": [
      "Mi nombre es Norma Silva y mi edad es 34\n"
     ]
    }
   ],
   "source": [
    "nombre = \"Norma Silva\"\n",
    "Edad = 34\n",
    "print(\"Mi nombre es {} y mi edad es {}\".format(nombre,Edad))"
   ]
  },
  {
   "cell_type": "code",
   "execution_count": 18,
   "id": "432e7e66",
   "metadata": {},
   "outputs": [],
   "source": [
    "cadenaTexto = \"Corhuila\""
   ]
  },
  {
   "cell_type": "code",
   "execution_count": 19,
   "id": "43220e2e",
   "metadata": {},
   "outputs": [
    {
     "data": {
      "text/plain": [
       "'h'"
      ]
     },
     "execution_count": 19,
     "metadata": {},
     "output_type": "execute_result"
    }
   ],
   "source": [
    "cadenaTexto[3]"
   ]
  },
  {
   "cell_type": "code",
   "execution_count": null,
   "id": "fa6c05aa",
   "metadata": {},
   "outputs": [],
   "source": []
  }
 ],
 "metadata": {
  "kernelspec": {
   "display_name": "Python 3",
   "language": "python",
   "name": "python3"
  },
  "language_info": {
   "codemirror_mode": {
    "name": "ipython",
    "version": 3
   },
   "file_extension": ".py",
   "mimetype": "text/x-python",
   "name": "python",
   "nbconvert_exporter": "python",
   "pygments_lexer": "ipython3",
   "version": "3.8.8"
  }
 },
 "nbformat": 4,
 "nbformat_minor": 5
}
