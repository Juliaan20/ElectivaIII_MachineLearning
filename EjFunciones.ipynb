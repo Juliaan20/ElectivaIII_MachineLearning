{
 "cells": [
  {
   "cell_type": "code",
   "execution_count": 1,
   "id": "4aa76ffe",
   "metadata": {},
   "outputs": [],
   "source": [
    "def funcion():\n",
    "    print(\"Mi primera función\")\n",
    "    "
   ]
  },
  {
   "cell_type": "code",
   "execution_count": 2,
   "id": "df5ffe29",
   "metadata": {},
   "outputs": [
    {
     "name": "stdout",
     "output_type": "stream",
     "text": [
      "Mi primera función\n"
     ]
    }
   ],
   "source": [
    "funcion()"
   ]
  },
  {
   "cell_type": "code",
   "execution_count": 3,
   "id": "72b0fa38",
   "metadata": {},
   "outputs": [],
   "source": [
    "def saludo(nombre):\n",
    "    print(\"Bienvenido al sistema:\" + nombre)"
   ]
  },
  {
   "cell_type": "code",
   "execution_count": 4,
   "id": "2caf2ab3",
   "metadata": {},
   "outputs": [
    {
     "name": "stdout",
     "output_type": "stream",
     "text": [
      "Bienvenido al sistema:hector sanchez\n"
     ]
    }
   ],
   "source": [
    "saludo(\"hector sanchez\")"
   ]
  },
  {
   "cell_type": "code",
   "execution_count": 7,
   "id": "7240ff0a",
   "metadata": {},
   "outputs": [],
   "source": [
    "def operaciones(n1, n2):\n",
    "    \"\"\"\"\"\"\"\"\"\n",
    "    dfadfsd\n",
    "    \"\"\"\"\"\"\"\"\"\n",
    "    suma = n1 + n2\n",
    "    return suma"
   ]
  },
  {
   "cell_type": "code",
   "execution_count": 8,
   "id": "6720f66a",
   "metadata": {},
   "outputs": [
    {
     "ename": "NameError",
     "evalue": "name 'suma' is not defined",
     "output_type": "error",
     "traceback": [
      "\u001b[1;31m---------------------------------------------------------------------------\u001b[0m",
      "\u001b[1;31mNameError\u001b[0m                                 Traceback (most recent call last)",
      "\u001b[1;32m<ipython-input-8-52392f52f893>\u001b[0m in \u001b[0;36m<module>\u001b[1;34m\u001b[0m\n\u001b[1;32m----> 1\u001b[1;33m \u001b[0moperaciones\u001b[0m\u001b[1;33m(\u001b[0m\u001b[1;36m2\u001b[0m \u001b[1;33m,\u001b[0m \u001b[1;36m8\u001b[0m\u001b[1;33m)\u001b[0m\u001b[1;33m\u001b[0m\u001b[1;33m\u001b[0m\u001b[0m\n\u001b[0m",
      "\u001b[1;32m<ipython-input-7-f2314e0d6c79>\u001b[0m in \u001b[0;36moperaciones\u001b[1;34m(n1, n2)\u001b[0m\n\u001b[0;32m      1\u001b[0m \u001b[1;32mdef\u001b[0m \u001b[0moperaciones\u001b[0m\u001b[1;33m(\u001b[0m\u001b[0mn1\u001b[0m\u001b[1;33m,\u001b[0m \u001b[0mn2\u001b[0m\u001b[1;33m)\u001b[0m\u001b[1;33m:\u001b[0m\u001b[1;33m\u001b[0m\u001b[1;33m\u001b[0m\u001b[0m\n\u001b[1;32m----> 2\u001b[1;33m     \u001b[1;32mreturn\u001b[0m \u001b[0msuma\u001b[0m\u001b[1;33m\u001b[0m\u001b[1;33m\u001b[0m\u001b[0m\n\u001b[0m",
      "\u001b[1;31mNameError\u001b[0m: name 'suma' is not defined"
     ]
    }
   ],
   "source": [
    "operaciones(2 , 8)"
   ]
  },
  {
   "cell_type": "code",
   "execution_count": null,
   "id": "d8613fa3",
   "metadata": {},
   "outputs": [],
   "source": []
  }
 ],
 "metadata": {
  "kernelspec": {
   "display_name": "Python 3",
   "language": "python",
   "name": "python3"
  },
  "language_info": {
   "codemirror_mode": {
    "name": "ipython",
    "version": 3
   },
   "file_extension": ".py",
   "mimetype": "text/x-python",
   "name": "python",
   "nbconvert_exporter": "python",
   "pygments_lexer": "ipython3",
   "version": "3.8.8"
  }
 },
 "nbformat": 4,
 "nbformat_minor": 5
}
