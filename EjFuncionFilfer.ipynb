{
 "cells": [
  {
   "cell_type": "code",
   "execution_count": 1,
   "id": "d92c2dd4",
   "metadata": {},
   "outputs": [],
   "source": [
    "def par(num):\n",
    "    if(num % 2 == 0):\n",
    "        return num"
   ]
  },
  {
   "cell_type": "code",
   "execution_count": 2,
   "id": "62c55ba6",
   "metadata": {},
   "outputs": [
    {
     "data": {
      "text/plain": [
       "[8, 10, 12, 18]"
      ]
     },
     "execution_count": 2,
     "metadata": {},
     "output_type": "execute_result"
    }
   ],
   "source": [
    "ls1 = [1,5,7,8,10,12,18]\n",
    "ls_par = list(filter(par, ls1))\n",
    "ls_par"
   ]
  },
  {
   "cell_type": "code",
   "execution_count": 4,
   "id": "3b2b085d",
   "metadata": {},
   "outputs": [
    {
     "data": {
      "text/plain": [
       "[2, 8, 10, 12, 18]"
      ]
     },
     "execution_count": 4,
     "metadata": {},
     "output_type": "execute_result"
    }
   ],
   "source": [
    "ls1 = [2,5,7,8,10,12,18]\n",
    "ls_par_lambda = list(filter(lambda num: num%2==0, ls1))\n",
    "ls_par_lambda"
   ]
  },
  {
   "cell_type": "code",
   "execution_count": null,
   "id": "0644662f",
   "metadata": {},
   "outputs": [],
   "source": []
  }
 ],
 "metadata": {
  "kernelspec": {
   "display_name": "Python 3",
   "language": "python",
   "name": "python3"
  },
  "language_info": {
   "codemirror_mode": {
    "name": "ipython",
    "version": 3
   },
   "file_extension": ".py",
   "mimetype": "text/x-python",
   "name": "python",
   "nbconvert_exporter": "python",
   "pygments_lexer": "ipython3",
   "version": "3.8.8"
  }
 },
 "nbformat": 4,
 "nbformat_minor": 5
}
