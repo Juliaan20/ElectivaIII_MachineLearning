{
 "cells": [
  {
   "cell_type": "code",
   "execution_count": 1,
   "id": "e8b85e9d",
   "metadata": {},
   "outputs": [
    {
     "data": {
      "text/plain": [
       "'Hola corhuila'"
      ]
     },
     "execution_count": 1,
     "metadata": {},
     "output_type": "execute_result"
    }
   ],
   "source": [
    "'Hola corhuila'"
   ]
  },
  {
   "cell_type": "code",
   "execution_count": 2,
   "id": "c0a4f2a8",
   "metadata": {},
   "outputs": [
    {
     "data": {
      "text/plain": [
       "'Esto es un saludo'"
      ]
     },
     "execution_count": 2,
     "metadata": {},
     "output_type": "execute_result"
    }
   ],
   "source": [
    "\"Esto es un saludo\""
   ]
  },
  {
   "cell_type": "code",
   "execution_count": 3,
   "id": "871cb3e4",
   "metadata": {},
   "outputs": [
    {
     "data": {
      "text/plain": [
       "\"Esto es un 'segundo saludo'\""
      ]
     },
     "execution_count": 3,
     "metadata": {},
     "output_type": "execute_result"
    }
   ],
   "source": [
    "\"Esto es un 'segundo saludo'\""
   ]
  },
  {
   "cell_type": "code",
   "execution_count": 4,
   "id": "b6873ab1",
   "metadata": {},
   "outputs": [],
   "source": [
    "texto = \"hector sanchez\""
   ]
  },
  {
   "cell_type": "code",
   "execution_count": 5,
   "id": "ed3c3023",
   "metadata": {},
   "outputs": [
    {
     "data": {
      "text/plain": [
       "'hector sanchez'"
      ]
     },
     "execution_count": 5,
     "metadata": {},
     "output_type": "execute_result"
    }
   ],
   "source": [
    "texto"
   ]
  },
  {
   "cell_type": "code",
   "execution_count": 6,
   "id": "e859ad50",
   "metadata": {},
   "outputs": [
    {
     "name": "stdout",
     "output_type": "stream",
     "text": [
      "hector sanchez\n"
     ]
    }
   ],
   "source": [
    "print(texto)"
   ]
  },
  {
   "cell_type": "code",
   "execution_count": 8,
   "id": "434b6238",
   "metadata": {},
   "outputs": [
    {
     "name": "stdout",
     "output_type": "stream",
     "text": [
      "Mi nombre es Hector Sanchez y mi edad es 34\n"
     ]
    }
   ],
   "source": [
    "nombre = \"Hector Sanchez\"\n",
    "Edad = 34\n",
    "print(\"Mi nombre es {} y mi edad es {}\".format(nombre,Edad))"
   ]
  },
  {
   "cell_type": "code",
   "execution_count": 12,
   "id": "50acb5c4",
   "metadata": {},
   "outputs": [
    {
     "name": "stdout",
     "output_type": "stream",
     "text": [
      "Mi nombre es Hector Sanchez y mi edad es 34\n"
     ]
    }
   ],
   "source": [
    "nombre = \"Hector Sanchez\"\n",
    "Edad = 34\n",
    "print(\"Mi nombre es {var1} y mi edad es {var2}\".format(var1=nombre,var2=Edad))"
   ]
  },
  {
   "cell_type": "code",
   "execution_count": 13,
   "id": "4738774f",
   "metadata": {},
   "outputs": [],
   "source": [
    "cadenatexto = \"Corhuila\""
   ]
  },
  {
   "cell_type": "code",
   "execution_count": 14,
   "id": "1eac5f50",
   "metadata": {},
   "outputs": [
    {
     "data": {
      "text/plain": [
       "'C'"
      ]
     },
     "execution_count": 14,
     "metadata": {},
     "output_type": "execute_result"
    }
   ],
   "source": [
    "cadenatexto[0]"
   ]
  },
  {
   "cell_type": "code",
   "execution_count": 15,
   "id": "e4b9302f",
   "metadata": {},
   "outputs": [
    {
     "data": {
      "text/plain": [
       "'a'"
      ]
     },
     "execution_count": 15,
     "metadata": {},
     "output_type": "execute_result"
    }
   ],
   "source": [
    "cadenatexto[7]"
   ]
  },
  {
   "cell_type": "code",
   "execution_count": 16,
   "id": "ee3eec99",
   "metadata": {},
   "outputs": [
    {
     "data": {
      "text/plain": [
       "'a'"
      ]
     },
     "execution_count": 16,
     "metadata": {},
     "output_type": "execute_result"
    }
   ],
   "source": [
    "cadenatexto[-1]"
   ]
  },
  {
   "cell_type": "code",
   "execution_count": 17,
   "id": "3d546f40",
   "metadata": {},
   "outputs": [
    {
     "data": {
      "text/plain": [
       "'l'"
      ]
     },
     "execution_count": 17,
     "metadata": {},
     "output_type": "execute_result"
    }
   ],
   "source": [
    "cadenatexto[-2]"
   ]
  },
  {
   "cell_type": "code",
   "execution_count": 18,
   "id": "c4ef4d3e",
   "metadata": {},
   "outputs": [
    {
     "data": {
      "text/plain": [
       "'or'"
      ]
     },
     "execution_count": 18,
     "metadata": {},
     "output_type": "execute_result"
    }
   ],
   "source": [
    "cadenatexto[1:3]"
   ]
  },
  {
   "cell_type": "code",
   "execution_count": null,
   "id": "c4a8f6eb",
   "metadata": {},
   "outputs": [],
   "source": []
  }
 ],
 "metadata": {
  "kernelspec": {
   "display_name": "Python 3 (ipykernel)",
   "language": "python",
   "name": "python3"
  },
  "language_info": {
   "codemirror_mode": {
    "name": "ipython",
    "version": 3
   },
   "file_extension": ".py",
   "mimetype": "text/x-python",
   "name": "python",
   "nbconvert_exporter": "python",
   "pygments_lexer": "ipython3",
   "version": "3.8.8"
  }
 },
 "nbformat": 4,
 "nbformat_minor": 5
}
