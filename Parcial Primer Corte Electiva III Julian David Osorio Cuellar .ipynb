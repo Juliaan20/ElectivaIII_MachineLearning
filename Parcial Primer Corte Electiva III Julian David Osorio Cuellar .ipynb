{
 "cells": [
  {
   "cell_type": "markdown",
   "id": "83e37323",
   "metadata": {},
   "source": [
    "# Realice un programa en Python que pida una cantidad de dinero a pagar y el número de billetes de 20.000 y 10.000 pesos entregados y que responda cuánto dinero sobra o falta. Debe tener en cuenta que no se aceptan número negativos "
   ]
  },
  {
   "cell_type": "code",
   "execution_count": 1,
   "id": "48121b54",
   "metadata": {},
   "outputs": [
    {
     "name": "stdout",
     "output_type": "stream",
     "text": [
      "señor usuario Ingrese la cantidad de dinero a pagar en el sistema4\n",
      "Digite la cantidad de billetes de 20 a pagar en el sistema3\n",
      "Digite la cantidad de billetes de 10 a pagar en el sistema6\n",
      "te sobro $119996 pesos\n",
      "QUE VUELVA PRONTO\n"
     ]
    }
   ],
   "source": [
    "dineroapagar = int(input(\"señor usuario Ingrese la cantidad de dinero a pagar en el sistema\"))\n",
    "\n",
    "if dineroapagar > 0:\n",
    "    billetede20000 = int(input(\"Digite la cantidad de billetes de 20 a pagar en el sistema\"))\n",
    "    billetede10000 = int(input(\"Digite la cantidad de billetes de 10 a pagar en el sistema\"))\n",
    "    #CALCULO DE PAGOS\n",
    "    totaldelpago = (billetede20000*20000)+(billetede10000*10000)\n",
    "    #CALCULO DE CUENTAS\n",
    "    cuenta = dineroapagar - totaldelpago\n",
    "    \n",
    "    if cuenta > 0:\n",
    "        print(\"Usuario te quedo faltando mas!!!$\"+str(cuenta)+\" pesos\")\n",
    "    elif cuenta == 0:\n",
    "         print(\"completo!!!\")\n",
    "    else:\n",
    "        print(\"te sobro $\"+str(-cuenta)+\" pesos\") \n",
    "   #parte de reescribir otra vez la cantidad     \n",
    "else:\n",
    "    dineroapagar = int(input(\" señor usuario digite de nuevo la cantidad de dinero ingresado al sistema\"))\n",
    "    billetes20000 = int(input(\"Digite la cantidad de billetes de 20 que desea ingresar al sistema\"))\n",
    "    billetes10000 = int(input(\"Digite la cantidad de billetes de 10 que desea ingresar al sistema \"))\n",
    "    \n",
    "    totalapagar = (billetesde20000*20000)+(billetesde10000*10000)\n",
    "    cuenta = dineroapagar - totaldelpago\n",
    "    \n",
    "    if cuenta > 0:\n",
    "        print(\"Usuario te quedo faltando mas!!!$\"+str(cuenta)+\" pesos\")\n",
    "    elif cuenta == 0:\n",
    "         print(\"completo!!!\")\n",
    "    else:\n",
    "        print(\"Usuario te sobro $\"+str(-cuenta)+\" pesos\")\n",
    "print('QUE VUELVA PRONTO')"
   ]
  },
  {
   "cell_type": "markdown",
   "id": "08c69fa0",
   "metadata": {},
   "source": [
    "# Realice un programa que pida una fecha y diga si ese día existe. El programa no tiene por qué comprobar que se escribe una fecha posterior al 15 de octubre de 1582, que fue cuando se instauró el calendario gregoriano. Se recuerda que enero, marzo, mayo, julio, agosto, octubre y diciembre tienen 31 días, que abril, junio, septiembre y noviembre tienen 30 días y febrero tiene 28 días."
   ]
  },
  {
   "cell_type": "code",
   "execution_count": 4,
   "id": "6cda3d7b",
   "metadata": {},
   "outputs": [
    {
     "name": "stdout",
     "output_type": "stream",
     "text": [
      "Digite el Dia: 3\n",
      "Digite el Mes: 4\n",
      "Digite el Año: 1985\n",
      "El dia 3 del mes 4 de 1985 es SIexiste\n",
      "QUE VUELVA PRONTO\n"
     ]
    }
   ],
   "source": [
    "#VARIABLES DE ENTRADA\n",
    "dia = int(input('Digite el Dia: '))\n",
    "mes = int(input('Digite el Mes: '))\n",
    "year = int(input('Digite el Año: '))\n",
    "\n",
    "if year < 1583:\n",
    "    print('El dia %d del mes %d de %d es %s')\n",
    "else:\n",
    "    a = (14 - mes) // 12\n",
    "    y = year - a\n",
    "    m = mes + 12 * a - 2\n",
    "    d = (dia + year + (year//4) - (year//100) + (year//400) + ((31 * m)//12)) % 7\n",
    "    \n",
    "    #CONDICIONES\n",
    "if d == 0:\n",
    "    diaSemana = 'SIexiste'\n",
    "elif d == 1:\n",
    "    diaSemana = 'SIexiste'\n",
    "elif d == 2:\n",
    "    diaSemana = 'SIexiste'\n",
    "elif d == 3:\n",
    "    diaSemana = 'SIexiste'\n",
    "elif d == 4:\n",
    "    diaSemana = 'SIxiste'\n",
    "elif d == 5:\n",
    "    diaSemana = 'SIexiste'\n",
    "else:\n",
    "    diaSemana = 'NOexiste'\n",
    "    \n",
    "    #CONDICIONES\n",
    "\n",
    "print('El dia %d del mes %d de %d es %s' %(dia,mes,year,diaSemana))\n",
    "\n",
    "print('QUE VUELVA PRONTO')"
   ]
  },
  {
   "cell_type": "code",
   "execution_count": null,
   "id": "1c03cf2f",
   "metadata": {},
   "outputs": [],
   "source": []
  },
  {
   "cell_type": "code",
   "execution_count": null,
   "id": "a49fd85f",
   "metadata": {},
   "outputs": [],
   "source": []
  }
 ],
 "metadata": {
  "kernelspec": {
   "display_name": "Python 3",
   "language": "python",
   "name": "python3"
  },
  "language_info": {
   "codemirror_mode": {
    "name": "ipython",
    "version": 3
   },
   "file_extension": ".py",
   "mimetype": "text/x-python",
   "name": "python",
   "nbconvert_exporter": "python",
   "pygments_lexer": "ipython3",
   "version": "3.8.8"
  }
 },
 "nbformat": 4,
 "nbformat_minor": 5
}
