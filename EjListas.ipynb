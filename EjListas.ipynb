{
 "cells": [
  {
   "cell_type": "code",
   "execution_count": 9,
   "id": "0ff8f2f5",
   "metadata": {},
   "outputs": [],
   "source": [
    "#/*Una Lista es un conjunto de elementos (Numero y caracteres)*/\n"
   ]
  },
  {
   "cell_type": "code",
   "execution_count": 2,
   "id": "48b364e0",
   "metadata": {},
   "outputs": [
    {
     "data": {
      "text/plain": [
       "[]"
      ]
     },
     "execution_count": 2,
     "metadata": {},
     "output_type": "execute_result"
    }
   ],
   "source": [
    "[]"
   ]
  },
  {
   "cell_type": "code",
   "execution_count": 3,
   "id": "409919f5",
   "metadata": {},
   "outputs": [
    {
     "data": {
      "text/plain": [
       "[1, 2, 3, 4, 5]"
      ]
     },
     "execution_count": 3,
     "metadata": {},
     "output_type": "execute_result"
    }
   ],
   "source": [
    "[1,2,3,4,5]\n"
   ]
  },
  {
   "cell_type": "code",
   "execution_count": 4,
   "id": "95e833e4",
   "metadata": {},
   "outputs": [
    {
     "data": {
      "text/plain": [
       "['a', 'b', 'c', 'corhuila']"
      ]
     },
     "execution_count": 4,
     "metadata": {},
     "output_type": "execute_result"
    }
   ],
   "source": [
    "['a','b','c', 'corhuila']"
   ]
  },
  {
   "cell_type": "code",
   "execution_count": 5,
   "id": "46c018ff",
   "metadata": {},
   "outputs": [
    {
     "data": {
      "text/plain": [
       "['a', 'b', 'c', 'corhuila']"
      ]
     },
     "execution_count": 5,
     "metadata": {},
     "output_type": "execute_result"
    }
   ],
   "source": [
    "lista = ['a','b','c', 'corhuila']\n",
    "lista"
   ]
  },
  {
   "cell_type": "code",
   "execution_count": 6,
   "id": "2758d270",
   "metadata": {},
   "outputs": [],
   "source": [
    "lista.append('Universidad')   #Agrega nuevos elementos a la lista"
   ]
  },
  {
   "cell_type": "code",
   "execution_count": 7,
   "id": "45095785",
   "metadata": {},
   "outputs": [
    {
     "data": {
      "text/plain": [
       "['a', 'b', 'c', 'corhuila', 'Universidad']"
      ]
     },
     "execution_count": 7,
     "metadata": {},
     "output_type": "execute_result"
    }
   ],
   "source": [
    "lista"
   ]
  },
  {
   "cell_type": "code",
   "execution_count": 8,
   "id": "847d0abf",
   "metadata": {},
   "outputs": [
    {
     "data": {
      "text/plain": [
       "'a'"
      ]
     },
     "execution_count": 8,
     "metadata": {},
     "output_type": "execute_result"
    }
   ],
   "source": [
    "lista[0] #imprimimos por posicion de acuerdoa a la lista"
   ]
  },
  {
   "cell_type": "code",
   "execution_count": 10,
   "id": "d2004aa1",
   "metadata": {},
   "outputs": [
    {
     "data": {
      "text/plain": [
       "['b', 'c', 'corhuila']"
      ]
     },
     "execution_count": 10,
     "metadata": {},
     "output_type": "execute_result"
    }
   ],
   "source": [
    "lista[1:4] #Indexamos la lista "
   ]
  },
  {
   "cell_type": "code",
   "execution_count": 11,
   "id": "35724b9f",
   "metadata": {},
   "outputs": [],
   "source": [
    "#Lista doble o contenedos e lista"
   ]
  },
  {
   "cell_type": "code",
   "execution_count": 12,
   "id": "283be7e2",
   "metadata": {},
   "outputs": [],
   "source": [
    "listadl = [1,2,3,['a', 'b','c']]"
   ]
  },
  {
   "cell_type": "code",
   "execution_count": 13,
   "id": "538fbac4",
   "metadata": {},
   "outputs": [
    {
     "data": {
      "text/plain": [
       "[1, 2, 3, ['a', 'b', 'c']]"
      ]
     },
     "execution_count": 13,
     "metadata": {},
     "output_type": "execute_result"
    }
   ],
   "source": [
    "listadl"
   ]
  },
  {
   "cell_type": "code",
   "execution_count": 14,
   "id": "7b469e45",
   "metadata": {},
   "outputs": [
    {
     "data": {
      "text/plain": [
       "['a', 'b', 'c']"
      ]
     },
     "execution_count": 14,
     "metadata": {},
     "output_type": "execute_result"
    }
   ],
   "source": [
    "listadl[3]"
   ]
  },
  {
   "cell_type": "code",
   "execution_count": 15,
   "id": "6f74e11b",
   "metadata": {},
   "outputs": [
    {
     "data": {
      "text/plain": [
       "'a'"
      ]
     },
     "execution_count": 15,
     "metadata": {},
     "output_type": "execute_result"
    }
   ],
   "source": [
    "listadl[3][0]"
   ]
  },
  {
   "cell_type": "code",
   "execution_count": null,
   "id": "cf086600",
   "metadata": {},
   "outputs": [],
   "source": []
  }
 ],
 "metadata": {
  "kernelspec": {
   "display_name": "Python 3 (ipykernel)",
   "language": "python",
   "name": "python3"
  },
  "language_info": {
   "codemirror_mode": {
    "name": "ipython",
    "version": 3
   },
   "file_extension": ".py",
   "mimetype": "text/x-python",
   "name": "python",
   "nbconvert_exporter": "python",
   "pygments_lexer": "ipython3",
   "version": "3.8.8"
  }
 },
 "nbformat": 4,
 "nbformat_minor": 5
}
