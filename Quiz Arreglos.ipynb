{
 "cells": [
  {
   "cell_type": "markdown",
   "id": "a2c8f2c0",
   "metadata": {},
   "source": [
    "#3.Crear una lista de números secuenciales que tenga como rango de valor mínimo 10 y máximo 39, convertir esta lista en una lista o matriz de dos (2) dimensiones ( 3 filas por 10 columnas) y generar en pantalla (imprimir) el valor del elemento de la esquina superior derecha de la matriz.(2.0)"
   ]
  },
  {
   "cell_type": "code",
   "execution_count": 7,
   "id": "26f1042b",
   "metadata": {},
   "outputs": [],
   "source": [
    "import numpy as np #importancion de libreria"
   ]
  },
  {
   "cell_type": "code",
   "execution_count": 37,
   "id": "e577e7e9",
   "metadata": {},
   "outputs": [],
   "source": [
    "N = np.arange(10,40) #rangos de 10 a 40"
   ]
  },
  {
   "cell_type": "code",
   "execution_count": 38,
   "id": "1b175cc1",
   "metadata": {},
   "outputs": [
    {
     "data": {
      "text/plain": [
       "array([10, 11, 12, 13, 14, 15, 16, 17, 18, 19, 20, 21, 22, 23, 24, 25, 26,\n",
       "       27, 28, 29, 30, 31, 32, 33, 34, 35, 36, 37, 38, 39])"
      ]
     },
     "execution_count": 38,
     "metadata": {},
     "output_type": "execute_result"
    }
   ],
   "source": [
    "N"
   ]
  },
  {
   "cell_type": "code",
   "execution_count": 41,
   "id": "48ae3e57",
   "metadata": {},
   "outputs": [],
   "source": [
    "X = np.array(N).reshape(3,10) #matriz de 3x10"
   ]
  },
  {
   "cell_type": "code",
   "execution_count": 42,
   "id": "3b823e1e",
   "metadata": {},
   "outputs": [
    {
     "data": {
      "text/plain": [
       "array([[10, 11, 12, 13, 14, 15, 16, 17, 18, 19],\n",
       "       [20, 21, 22, 23, 24, 25, 26, 27, 28, 29],\n",
       "       [30, 31, 32, 33, 34, 35, 36, 37, 38, 39]])"
      ]
     },
     "execution_count": 42,
     "metadata": {},
     "output_type": "execute_result"
    }
   ],
   "source": [
    "X"
   ]
  },
  {
   "cell_type": "code",
   "execution_count": 32,
   "id": "ef9d530a",
   "metadata": {},
   "outputs": [
    {
     "data": {
      "text/plain": [
       "19"
      ]
     },
     "execution_count": 32,
     "metadata": {},
     "output_type": "execute_result"
    }
   ],
   "source": [
    "X[0,9] #el valor del elemento de la esquina superior derecha de la matriz"
   ]
  },
  {
   "cell_type": "code",
   "execution_count": 20,
   "id": "3f7b4f0f",
   "metadata": {},
   "outputs": [],
   "source": [
    "condicion = X > 3"
   ]
  },
  {
   "cell_type": "code",
   "execution_count": 21,
   "id": "0bf7f701",
   "metadata": {},
   "outputs": [
    {
     "data": {
      "text/plain": [
       "array([[ True,  True,  True,  True,  True,  True,  True,  True,  True,\n",
       "         True],\n",
       "       [ True,  True,  True,  True,  True,  True,  True,  True,  True,\n",
       "         True],\n",
       "       [ True,  True,  True,  True,  True,  True,  True,  True,  True,\n",
       "         True]])"
      ]
     },
     "execution_count": 21,
     "metadata": {},
     "output_type": "execute_result"
    }
   ],
   "source": [
    "condicion"
   ]
  },
  {
   "cell_type": "markdown",
   "id": "8ae6da94",
   "metadata": {},
   "source": [
    "# Forma2"
   ]
  },
  {
   "cell_type": "code",
   "execution_count": 45,
   "id": "1f93ca60",
   "metadata": {},
   "outputs": [
    {
     "name": "stdout",
     "output_type": "stream",
     "text": [
      "[[10 11 12 13 14 15 16 17 18 19]\n",
      " [20 21 22 23 24 25 26 27 28 29]\n",
      " [30 31 32 33 34 35 36 37 38 39]]\n"
     ]
    }
   ],
   "source": [
    "import numpy as np\n",
    "\n",
    "a = list(range(10, 40))\n",
    "b = np.array(a)\n",
    "x = np.reshape(b, (3, 10))\n",
    "\n",
    "print(x)"
   ]
  },
  {
   "cell_type": "code",
   "execution_count": 44,
   "id": "188acbbf",
   "metadata": {},
   "outputs": [
    {
     "data": {
      "text/plain": [
       "19"
      ]
     },
     "execution_count": 44,
     "metadata": {},
     "output_type": "execute_result"
    }
   ],
   "source": [
    "x[0,9]"
   ]
  },
  {
   "cell_type": "code",
   "execution_count": 46,
   "id": "0a8f1975",
   "metadata": {},
   "outputs": [],
   "source": [
    "condicion = X > 3"
   ]
  },
  {
   "cell_type": "code",
   "execution_count": 47,
   "id": "a35f7d68",
   "metadata": {},
   "outputs": [
    {
     "data": {
      "text/plain": [
       "array([[ True,  True,  True,  True,  True,  True,  True,  True,  True,\n",
       "         True],\n",
       "       [ True,  True,  True,  True,  True,  True,  True,  True,  True,\n",
       "         True],\n",
       "       [ True,  True,  True,  True,  True,  True,  True,  True,  True,\n",
       "         True]])"
      ]
     },
     "execution_count": 47,
     "metadata": {},
     "output_type": "execute_result"
    }
   ],
   "source": [
    "condicion"
   ]
  },
  {
   "cell_type": "markdown",
   "id": "536999e1",
   "metadata": {},
   "source": [
    "\n",
    "#4.Crear un array de una dimensión con 9 valores aleatorios todos enteros que estén entre 0 y 100.Convierte este array en una matriz de 2 dimensiones (3 filas y 3 columnas).Generar en pantalla (Imprimir) el valor del elemento de la matriz de la esquina inferior derecha. (2.0)\n"
   ]
  },
  {
   "cell_type": "code",
   "execution_count": 5,
   "id": "087ba499",
   "metadata": {},
   "outputs": [
    {
     "name": "stdout",
     "output_type": "stream",
     "text": [
      "[[28 86 83]\n",
      " [14 49 29]\n",
      " [28 47 68]]\n"
     ]
    }
   ],
   "source": [
    "import numpy as np\n",
    "\n",
    "x=np.random.randint(100, size=9)\n",
    "a = np.reshape(x, (3, 3))\n",
    "print(a)"
   ]
  },
  {
   "cell_type": "code",
   "execution_count": 23,
   "id": "4a12d652",
   "metadata": {},
   "outputs": [
    {
     "data": {
      "text/plain": [
       "68"
      ]
     },
     "execution_count": 23,
     "metadata": {},
     "output_type": "execute_result"
    }
   ],
   "source": [
    "a[2,2]"
   ]
  },
  {
   "cell_type": "code",
   "execution_count": 24,
   "id": "131b5359",
   "metadata": {},
   "outputs": [],
   "source": [
    "condicion = a > 3"
   ]
  },
  {
   "cell_type": "code",
   "execution_count": 25,
   "id": "b22af9c5",
   "metadata": {},
   "outputs": [
    {
     "data": {
      "text/plain": [
       "array([[ True,  True,  True],\n",
       "       [ True,  True,  True],\n",
       "       [ True,  True,  True]])"
      ]
     },
     "execution_count": 25,
     "metadata": {},
     "output_type": "execute_result"
    }
   ],
   "source": [
    "condicion"
   ]
  },
  {
   "cell_type": "code",
   "execution_count": null,
   "id": "b8bb26d0",
   "metadata": {},
   "outputs": [],
   "source": []
  }
 ],
 "metadata": {
  "kernelspec": {
   "display_name": "Python 3",
   "language": "python",
   "name": "python3"
  },
  "language_info": {
   "codemirror_mode": {
    "name": "ipython",
    "version": 3
   },
   "file_extension": ".py",
   "mimetype": "text/x-python",
   "name": "python",
   "nbconvert_exporter": "python",
   "pygments_lexer": "ipython3",
   "version": "3.8.8"
  }
 },
 "nbformat": 4,
 "nbformat_minor": 5
}
