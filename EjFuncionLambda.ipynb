{
 "cells": [
  {
   "cell_type": "code",
   "execution_count": 1,
   "id": "3ab8c7ab",
   "metadata": {},
   "outputs": [],
   "source": [
    "#Una funcion lambda es una función anonima es decir sin nombre\n"
   ]
  },
  {
   "cell_type": "code",
   "execution_count": 2,
   "id": "6c0ab1b2",
   "metadata": {},
   "outputs": [],
   "source": [
    "def multi(num):\n",
    "    return num * 2"
   ]
  },
  {
   "cell_type": "code",
   "execution_count": 3,
   "id": "aeec92f8",
   "metadata": {},
   "outputs": [
    {
     "data": {
      "text/plain": [
       "12"
      ]
     },
     "execution_count": 3,
     "metadata": {},
     "output_type": "execute_result"
    }
   ],
   "source": [
    "multi(6)"
   ]
  },
  {
   "cell_type": "code",
   "execution_count": 5,
   "id": "e46cb554",
   "metadata": {},
   "outputs": [
    {
     "data": {
      "text/plain": [
       "[2, 4, 6, 8]"
      ]
     },
     "execution_count": 5,
     "metadata": {},
     "output_type": "execute_result"
    }
   ],
   "source": [
    "lista = [1,2,3,4]\n",
    "ls2 = list(map(multi, lista))\n",
    "ls2"
   ]
  },
  {
   "cell_type": "code",
   "execution_count": 7,
   "id": "32659b63",
   "metadata": {},
   "outputs": [
    {
     "data": {
      "text/plain": [
       "[3, 6, 9, 12]"
      ]
     },
     "execution_count": 7,
     "metadata": {},
     "output_type": "execute_result"
    }
   ],
   "source": [
    "lista = [1,2,3,4]\n",
    "ls3 = list(map(lambda nm: nm * 3, lista))\n",
    "ls3"
   ]
  },
  {
   "cell_type": "code",
   "execution_count": null,
   "id": "d77e2d04",
   "metadata": {},
   "outputs": [],
   "source": []
  }
 ],
 "metadata": {
  "kernelspec": {
   "display_name": "Python 3",
   "language": "python",
   "name": "python3"
  },
  "language_info": {
   "codemirror_mode": {
    "name": "ipython",
    "version": 3
   },
   "file_extension": ".py",
   "mimetype": "text/x-python",
   "name": "python",
   "nbconvert_exporter": "python",
   "pygments_lexer": "ipython3",
   "version": "3.8.8"
  }
 },
 "nbformat": 4,
 "nbformat_minor": 5
}
