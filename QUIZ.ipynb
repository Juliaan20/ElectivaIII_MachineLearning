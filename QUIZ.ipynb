{
 "cells": [
  {
   "cell_type": "markdown",
   "id": "33dce718",
   "metadata": {},
   "source": [
    "# 1) Divide la frase en palabras y cuenta el numero de palabras que contiene e imprima la cantidad."
   ]
  },
  {
   "cell_type": "code",
   "execution_count": 15,
   "id": "b8aa202f",
   "metadata": {},
   "outputs": [
    {
     "name": "stdout",
     "output_type": "stream",
     "text": [
      "['Hola', 'Corhuila', 'esta', 'es', 'la', 'clase', 'de', 'Electiva', 'III']\n",
      "9\n"
     ]
    }
   ],
   "source": [
    "f = \"Hola Corhuila esta es la clase de Electiva III\"\n",
    "\n",
    "lista = frase.split()\n",
    "print(lista)\n",
    "\n",
    "cantidad = len(f.split())\n",
    "print(cantidad)"
   ]
  },
  {
   "cell_type": "markdown",
   "id": "226c18c1",
   "metadata": {},
   "source": [
    "# 2.1) Crear una aplicación que me permita imprimir solo los numeros positivos y si es negativo no devulve nada."
   ]
  },
  {
   "cell_type": "code",
   "execution_count": 29,
   "id": "e2ad47e0",
   "metadata": {},
   "outputs": [
    {
     "name": "stdout",
     "output_type": "stream",
     "text": [
      "1\n",
      "4\n",
      "8\n",
      "7\n"
     ]
    }
   ],
   "source": [
    "listado = [1, -1, \n",
    "           4, -20, 8, \n",
    "           7, -5, -20]  \n",
    "\n",
    "for A in listado:\n",
    "    if A > 0:\n",
    "        print (A)"
   ]
  },
  {
   "cell_type": "markdown",
   "id": "28c18586",
   "metadata": {},
   "source": [
    "# 2.2) Crear una nueva lista \"ListaPositivo\" que solo contenga los numeros positivos de la lista inicial. "
   ]
  },
  {
   "cell_type": "code",
   "execution_count": 31,
   "id": "1f311769",
   "metadata": {},
   "outputs": [
    {
     "name": "stdout",
     "output_type": "stream",
     "text": [
      "Positive numbers in the list:  4\n",
      "Negative numbers in the list:  4\n"
     ]
    }
   ],
   "source": [
    " \n",
    "list1 = [1, -1, \n",
    "           4, -20, 8, \n",
    "           7, -5, -20]  \n",
    "  \n",
    "pos_count, neg_count = 0, 0\n",
    "  \n",
    "for num in list1: \n",
    "      \n",
    "    \n",
    "    if num >= 0: \n",
    "        pos_count += 1\n",
    "  \n",
    "    else: \n",
    "        neg_count += 1\n",
    "          \n",
    "print(\"Positive numbers in the list: \", pos_count) \n",
    "print(\"Negative numbers in the list: \", neg_count)"
   ]
  },
  {
   "cell_type": "code",
   "execution_count": null,
   "id": "19892738",
   "metadata": {},
   "outputs": [],
   "source": []
  }
 ],
 "metadata": {
  "kernelspec": {
   "display_name": "Python 3",
   "language": "python",
   "name": "python3"
  },
  "language_info": {
   "codemirror_mode": {
    "name": "ipython",
    "version": 3
   },
   "file_extension": ".py",
   "mimetype": "text/x-python",
   "name": "python",
   "nbconvert_exporter": "python",
   "pygments_lexer": "ipython3",
   "version": "3.8.8"
  }
 },
 "nbformat": 4,
 "nbformat_minor": 5
}
