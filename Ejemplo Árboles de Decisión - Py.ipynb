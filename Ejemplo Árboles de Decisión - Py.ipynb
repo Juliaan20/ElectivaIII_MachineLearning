{
 "cells": [
  {
   "cell_type": "code",
   "execution_count": null,
   "id": "9ff3f256",
   "metadata": {},
   "outputs": [],
   "source": [
    "# importacion de librerias\n",
    "from sklearn import tree"
   ]
  },
  {
   "cell_type": "code",
   "execution_count": null,
   "id": "fd39b88f",
   "metadata": {},
   "outputs": [],
   "source": [
    "# se crea una instancia del arbol de decisión.\n",
    "clf = tree.DecisionTreeClassifier()"
   ]
  },
  {
   "cell_type": "markdown",
   "id": "7a63393b",
   "metadata": {},
   "source": [
    "# Entrada con datos de las personas abordo del barco: estatura, peso, talla del zapato"
   ]
  },
  {
   "cell_type": "code",
   "execution_count": null,
   "id": "41286aff",
   "metadata": {},
   "outputs": [],
   "source": [
    "# [estatura, peso, talla de zapato]"
   ]
  },
  {
   "cell_type": "code",
   "execution_count": 3,
   "id": "f00167eb",
   "metadata": {},
   "outputs": [],
   "source": [
    "val = [[181, 80, 44], [177, 60, 45], [176, 90, 34], \n",
    "       [190, 52, 37], [176, 68, 42], [184, 67, 45],\n",
    "       [171, 75, 42], [181, 58, 37], [154, 54, 40]]"
   ]
  },
  {
   "cell_type": "code",
   "execution_count": 4,
   "id": "77fd8561",
   "metadata": {},
   "outputs": [
    {
     "data": {
      "text/plain": [
       "[[181, 80, 44],\n",
       " [177, 60, 45],\n",
       " [176, 90, 34],\n",
       " [190, 52, 37],\n",
       " [176, 68, 42],\n",
       " [184, 67, 45],\n",
       " [171, 75, 42],\n",
       " [181, 58, 37],\n",
       " [154, 54, 40]]"
      ]
     },
     "execution_count": 4,
     "metadata": {},
     "output_type": "execute_result"
    }
   ],
   "source": [
    "val"
   ]
  },
  {
   "cell_type": "markdown",
   "id": "cd2a506f",
   "metadata": {},
   "source": [
    "# Salida donde se identifica el genero de las personas abordo del barco"
   ]
  },
  {
   "cell_type": "code",
   "execution_count": 6,
   "id": "e46a2112",
   "metadata": {},
   "outputs": [],
   "source": [
    "g = ['Mujer',\n",
    "     'Hombre', \n",
    "     'Mujer',\n",
    "     'Hombre', \n",
    "     'Hombre',\n",
    "     'Mujer',\n",
    "     'Hombre',\n",
    "     'Mujer', \n",
    "     'Mujer']"
   ]
  },
  {
   "cell_type": "code",
   "execution_count": 7,
   "id": "8cd7f65d",
   "metadata": {},
   "outputs": [
    {
     "data": {
      "text/plain": [
       "['Mujer',\n",
       " 'Hombre',\n",
       " 'Mujer',\n",
       " 'Hombre',\n",
       " 'Hombre',\n",
       " 'Mujer',\n",
       " 'Hombre',\n",
       " 'Mujer',\n",
       " 'Mujer']"
      ]
     },
     "execution_count": 7,
     "metadata": {},
     "output_type": "execute_result"
    }
   ],
   "source": [
    "g"
   ]
  },
  {
   "cell_type": "code",
   "execution_count": null,
   "id": "762a9a30",
   "metadata": {},
   "outputs": [],
   "source": [
    "# se le pasa los datos val & g"
   ]
  },
  {
   "cell_type": "code",
   "execution_count": null,
   "id": "9ddc4529",
   "metadata": {},
   "outputs": [],
   "source": [
    "clf = clf.fit(val, g)"
   ]
  },
  {
   "cell_type": "code",
   "execution_count": null,
   "id": "4a3e9fb9",
   "metadata": {},
   "outputs": [],
   "source": [
    "# se definen los datos 1 y 2"
   ]
  },
  {
   "cell_type": "code",
   "execution_count": null,
   "id": "a5556b0f",
   "metadata": {},
   "outputs": [],
   "source": [
    "datos1 = [150, 75, 44]"
   ]
  },
  {
   "cell_type": "code",
   "execution_count": null,
   "id": "7e724445",
   "metadata": {},
   "outputs": [],
   "source": [
    "prediction = clf.predict([datos1]) #clf es clasificador\n",
    "print(prediction)\n",
    "if prediction == 'Hombre':\n",
    "    print(\"son caracteristicas de un hombre\")\n",
    "else:\n",
    "    print(\"son caracteristicas de una mujer\")"
   ]
  },
  {
   "cell_type": "code",
   "execution_count": null,
   "id": "d562aba6",
   "metadata": {},
   "outputs": [],
   "source": [
    "datos2 = [158, 62, 37]"
   ]
  },
  {
   "cell_type": "code",
   "execution_count": null,
   "id": "58b58a26",
   "metadata": {},
   "outputs": [],
   "source": [
    "prediction = clf.predict([datos2])\n",
    "print(prediction)\n",
    "if prediction != 'Mujer':\n",
    "    print(\"son caracteristicas de un hombre\")\n",
    "else:\n",
    "    print(\"son caracteristicas de una mujer\")"
   ]
  },
  {
   "cell_type": "code",
   "execution_count": null,
   "id": "a39a8a5c",
   "metadata": {},
   "outputs": [],
   "source": [
    "datos3 = [150, 50, 32]"
   ]
  },
  {
   "cell_type": "code",
   "execution_count": null,
   "id": "32c4735d",
   "metadata": {},
   "outputs": [],
   "source": [
    "prediction = clf.predict([datos3])\n",
    "print(prediction)\n",
    "if prediction != 'Mujer':\n",
    "    print(\"son caracteristicas de un hombre\")\n",
    "else:\n",
    "    print(\"son caracteristicas de una mujer\")"
   ]
  },
  {
   "cell_type": "code",
   "execution_count": null,
   "id": "3243a210",
   "metadata": {},
   "outputs": [],
   "source": [
    "datos4 = [190, 89, 45]"
   ]
  },
  {
   "cell_type": "code",
   "execution_count": null,
   "id": "d41f07b8",
   "metadata": {},
   "outputs": [],
   "source": [
    "prediction = clf.predict([datos4])\n",
    "print(prediction)\n",
    "if prediction == 'Hombre':\n",
    "    print(\"son caracteristicas de un hombre\")\n",
    "else:\n",
    "    print(\"son caracteristicas de una mujer\")"
   ]
  },
  {
   "cell_type": "code",
   "execution_count": 9,
   "id": "3225e5f1",
   "metadata": {},
   "outputs": [],
   "source": [
    "datos5 = [152, 30, 40]"
   ]
  },
  {
   "cell_type": "code",
   "execution_count": 10,
   "id": "8838071b",
   "metadata": {},
   "outputs": [
    {
     "ename": "NameError",
     "evalue": "name 'clf' is not defined",
     "output_type": "error",
     "traceback": [
      "\u001b[1;31m---------------------------------------------------------------------------\u001b[0m",
      "\u001b[1;31mNameError\u001b[0m                                 Traceback (most recent call last)",
      "\u001b[1;32m<ipython-input-10-a29dbeaefbb4>\u001b[0m in \u001b[0;36m<module>\u001b[1;34m\u001b[0m\n\u001b[1;32m----> 1\u001b[1;33m \u001b[0mprediction\u001b[0m \u001b[1;33m=\u001b[0m \u001b[0mclf\u001b[0m\u001b[1;33m.\u001b[0m\u001b[0mpredict\u001b[0m\u001b[1;33m(\u001b[0m\u001b[1;33m[\u001b[0m\u001b[0mdatos3\u001b[0m\u001b[1;33m]\u001b[0m\u001b[1;33m)\u001b[0m\u001b[1;33m\u001b[0m\u001b[1;33m\u001b[0m\u001b[0m\n\u001b[0m\u001b[0;32m      2\u001b[0m \u001b[0mprint\u001b[0m\u001b[1;33m(\u001b[0m\u001b[0mprediction\u001b[0m\u001b[1;33m)\u001b[0m\u001b[1;33m\u001b[0m\u001b[1;33m\u001b[0m\u001b[0m\n\u001b[0;32m      3\u001b[0m \u001b[1;32mif\u001b[0m \u001b[0mprediction\u001b[0m \u001b[1;33m!=\u001b[0m \u001b[1;34m'Mujer'\u001b[0m\u001b[1;33m:\u001b[0m\u001b[1;33m\u001b[0m\u001b[1;33m\u001b[0m\u001b[0m\n\u001b[0;32m      4\u001b[0m     \u001b[0mprint\u001b[0m\u001b[1;33m(\u001b[0m\u001b[1;34m\"son caracteristicas de un hombre\"\u001b[0m\u001b[1;33m)\u001b[0m\u001b[1;33m\u001b[0m\u001b[1;33m\u001b[0m\u001b[0m\n\u001b[0;32m      5\u001b[0m \u001b[1;32melse\u001b[0m\u001b[1;33m:\u001b[0m\u001b[1;33m\u001b[0m\u001b[1;33m\u001b[0m\u001b[0m\n",
      "\u001b[1;31mNameError\u001b[0m: name 'clf' is not defined"
     ]
    }
   ],
   "source": [
    "prediction = clf.predict([datos3])\n",
    "print(prediction)\n",
    "if prediction != 'Mujer':\n",
    "    print(\"son caracteristicas de un hombre\")\n",
    "else:\n",
    "    print(\"son caracteristicas de una mujer\")"
   ]
  },
  {
   "cell_type": "code",
   "execution_count": null,
   "id": "8686911c",
   "metadata": {},
   "outputs": [],
   "source": []
  }
 ],
 "metadata": {
  "kernelspec": {
   "display_name": "Python 3",
   "language": "python",
   "name": "python3"
  },
  "language_info": {
   "codemirror_mode": {
    "name": "ipython",
    "version": 3
   },
   "file_extension": ".py",
   "mimetype": "text/x-python",
   "name": "python",
   "nbconvert_exporter": "python",
   "pygments_lexer": "ipython3",
   "version": "3.8.8"
  }
 },
 "nbformat": 4,
 "nbformat_minor": 5
}
