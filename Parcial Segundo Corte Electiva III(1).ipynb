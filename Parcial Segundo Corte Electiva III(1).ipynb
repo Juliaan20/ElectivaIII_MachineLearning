{
 "cells": [
  {
   "cell_type": "markdown",
   "id": "4b7d9204",
   "metadata": {},
   "source": [
    "# 2.Realice un ejemplo de listas en Python (0.5)"
   ]
  },
  {
   "cell_type": "code",
   "execution_count": 9,
   "id": "a7aa2741",
   "metadata": {},
   "outputs": [],
   "source": [
    "lista = [1, 2, 3, 4]"
   ]
  },
  {
   "cell_type": "code",
   "execution_count": 10,
   "id": "fb0b217c",
   "metadata": {},
   "outputs": [
    {
     "data": {
      "text/plain": [
       "[1, 2, 3, 4]"
      ]
     },
     "execution_count": 10,
     "metadata": {},
     "output_type": "execute_result"
    }
   ],
   "source": [
    "lista"
   ]
  },
  {
   "cell_type": "code",
   "execution_count": 18,
   "id": "301b6bf1",
   "metadata": {},
   "outputs": [],
   "source": [
    "lista2 = [1, 2.5, 'DevCode', [5,6] ,4]"
   ]
  },
  {
   "cell_type": "code",
   "execution_count": 19,
   "id": "a50c64ab",
   "metadata": {},
   "outputs": [
    {
     "data": {
      "text/plain": [
       "[[0, 0, 0], [0, 0, 0]]"
      ]
     },
     "execution_count": 19,
     "metadata": {},
     "output_type": "execute_result"
    }
   ],
   "source": [
    "lista2"
   ]
  },
  {
   "cell_type": "code",
   "execution_count": 21,
   "id": "9b778595",
   "metadata": {},
   "outputs": [
    {
     "name": "stdout",
     "output_type": "stream",
     "text": [
      "1\n",
      "2.5\n",
      "DevCode\n",
      "[5, 6]\n",
      "4\n"
     ]
    }
   ],
   "source": [
    "for element in lista:\n",
    "    print (element)"
   ]
  },
  {
   "cell_type": "markdown",
   "id": "11eb9136",
   "metadata": {},
   "source": [
    "# 3.Realice un ejemplo de range en Python (0.5)"
   ]
  },
  {
   "cell_type": "code",
   "execution_count": 13,
   "id": "519a9fd7",
   "metadata": {},
   "outputs": [],
   "source": [
    "import numpy as np"
   ]
  },
  {
   "cell_type": "code",
   "execution_count": 17,
   "id": "ca904872",
   "metadata": {},
   "outputs": [
    {
     "data": {
      "text/plain": [
       "[0, 1, 2, 3, 4, 5, 6, 7, 8, 9]"
      ]
     },
     "execution_count": 17,
     "metadata": {},
     "output_type": "execute_result"
    }
   ],
   "source": [
    "list(range(10))"
   ]
  },
  {
   "cell_type": "markdown",
   "id": "b791acda",
   "metadata": {},
   "source": [
    "# 5.Cargue en una lista 8 posiciones con edades diferentes y al momento de recorrer la lista determinar mediante una función llamada mayor(edad) cual es mayor de 18 y cual no (1.0)\n",
    "\n"
   ]
  },
  {
   "cell_type": "code",
   "execution_count": 56,
   "id": "fa4bbb40",
   "metadata": {},
   "outputs": [
    {
     "name": "stdout",
     "output_type": "stream",
     "text": [
      "[15 17 12 11  8 12 19  6 15 18]\n"
     ]
    }
   ],
   "source": [
    "edad = np.random.randint(0,20,10)\n",
    "print(edad)"
   ]
  },
  {
   "cell_type": "code",
   "execution_count": 62,
   "id": "dc61d9a9",
   "metadata": {},
   "outputs": [
    {
     "name": "stdout",
     "output_type": "stream",
     "text": [
      "los menores son [15, 17, 12, 11, 8, 12, 6, 15]\n",
      "los mayores son [19, 18]\n",
      "QUE TENGAS UN BUEN DIA!!\n"
     ]
    }
   ],
   "source": [
    "def mayor(edad):\n",
    "    mayores=[]\n",
    "    menores=[]\n",
    "    for W in edad:\n",
    "        if W >=18:\n",
    "            mayores.append(W)\n",
    "        else:\n",
    "            menores.append(W)      \n",
    "    print(\"los menores son\",menores)\n",
    "    print(\"los mayores son\",mayores)\n",
    "    print(\"QUE TENGAS UN BUEN DIA!!\")\n",
    "    \n",
    "mayor(edad)"
   ]
  },
  {
   "cell_type": "markdown",
   "id": "cb846924",
   "metadata": {},
   "source": [
    "# 7.Cargar dos listas (ListA - ListB) de forma aleatoria y en una tercer lista (ListC) obtener la sumatoria (ListC = ListA + ListB) (1.0)"
   ]
  },
  {
   "cell_type": "code",
   "execution_count": null,
   "id": "53e593f8",
   "metadata": {},
   "outputs": [],
   "source": [
    "import numpy as np"
   ]
  },
  {
   "cell_type": "code",
   "execution_count": 30,
   "id": "0e7a92e7",
   "metadata": {},
   "outputs": [],
   "source": [
    "ListadoA = np.random.randint(0,20,39)\n",
    "ListadoB = np.random.randint(0,50,39)\n",
    "listadoC = list(A+B for (A,B)in zip(ListadoA,ListadoB)) #La función zip () devuelve un objeto zip, que es un iterador de tuplas donde el primer elemento en cada iterador pasado se empareja, y luego el segundo elemento en cada iterador pasado se empareja, etc."
   ]
  },
  {
   "cell_type": "code",
   "execution_count": 31,
   "id": "2e4f916b",
   "metadata": {},
   "outputs": [
    {
     "data": {
      "text/plain": [
       "array([15, 12,  5, 17,  1,  4, 12, 19,  2, 16, 10,  1,  0,  8, 16,  6,  2,\n",
       "       12, 13,  2,  9,  7, 11, 12, 11,  0, 15, 17, 16,  7,  1, 17, 14,  1,\n",
       "       11,  0,  7, 18, 18])"
      ]
     },
     "execution_count": 31,
     "metadata": {},
     "output_type": "execute_result"
    }
   ],
   "source": [
    "ListadoA"
   ]
  },
  {
   "cell_type": "code",
   "execution_count": 32,
   "id": "e50fe3ca",
   "metadata": {},
   "outputs": [
    {
     "data": {
      "text/plain": [
       "array([29, 30, 45, 46, 10, 31, 31, 31,  0, 30,  5,  6, 13, 29, 20, 47, 35,\n",
       "       25,  3, 10, 46, 49, 48, 11, 41,  8, 17, 11, 23, 33, 12, 28,  5, 12,\n",
       "       29, 31, 28, 38,  0])"
      ]
     },
     "execution_count": 32,
     "metadata": {},
     "output_type": "execute_result"
    }
   ],
   "source": [
    "ListadoB"
   ]
  },
  {
   "cell_type": "code",
   "execution_count": 33,
   "id": "c246d586",
   "metadata": {},
   "outputs": [
    {
     "data": {
      "text/plain": [
       "[44,\n",
       " 42,\n",
       " 50,\n",
       " 63,\n",
       " 11,\n",
       " 35,\n",
       " 43,\n",
       " 50,\n",
       " 2,\n",
       " 46,\n",
       " 15,\n",
       " 7,\n",
       " 13,\n",
       " 37,\n",
       " 36,\n",
       " 53,\n",
       " 37,\n",
       " 37,\n",
       " 16,\n",
       " 12,\n",
       " 55,\n",
       " 56,\n",
       " 59,\n",
       " 23,\n",
       " 52,\n",
       " 8,\n",
       " 32,\n",
       " 28,\n",
       " 39,\n",
       " 40,\n",
       " 13,\n",
       " 45,\n",
       " 19,\n",
       " 13,\n",
       " 40,\n",
       " 31,\n",
       " 35,\n",
       " 56,\n",
       " 18]"
      ]
     },
     "execution_count": 33,
     "metadata": {},
     "output_type": "execute_result"
    }
   ],
   "source": [
    "listadoC #SUMATORIA DE VALORES"
   ]
  },
  {
   "cell_type": "code",
   "execution_count": 34,
   "id": "fcdd6893",
   "metadata": {},
   "outputs": [
    {
     "data": {
      "text/plain": [
       "38"
      ]
     },
     "execution_count": 34,
     "metadata": {},
     "output_type": "execute_result"
    }
   ],
   "source": [
    "array.max()#valor maximo"
   ]
  },
  {
   "cell_type": "code",
   "execution_count": 35,
   "id": "799ded37",
   "metadata": {},
   "outputs": [
    {
     "data": {
      "text/plain": [
       "4"
      ]
     },
     "execution_count": 35,
     "metadata": {},
     "output_type": "execute_result"
    }
   ],
   "source": [
    "array.min() #valor minimo"
   ]
  },
  {
   "cell_type": "code",
   "execution_count": 36,
   "id": "611ec633",
   "metadata": {},
   "outputs": [
    {
     "data": {
      "text/plain": [
       "17"
      ]
     },
     "execution_count": 36,
     "metadata": {},
     "output_type": "execute_result"
    }
   ],
   "source": [
    "array.argmax() #posicion"
   ]
  },
  {
   "cell_type": "code",
   "execution_count": 37,
   "id": "f085ac4c",
   "metadata": {},
   "outputs": [],
   "source": [
    "condicion = array > 3"
   ]
  },
  {
   "cell_type": "code",
   "execution_count": 38,
   "id": "8179c59d",
   "metadata": {},
   "outputs": [
    {
     "data": {
      "text/plain": [
       "array([ True,  True,  True,  True,  True,  True,  True,  True,  True,\n",
       "        True,  True,  True,  True,  True,  True,  True,  True,  True])"
      ]
     },
     "execution_count": 38,
     "metadata": {},
     "output_type": "execute_result"
    }
   ],
   "source": [
    "condicion"
   ]
  },
  {
   "cell_type": "code",
   "execution_count": 39,
   "id": "545adc68",
   "metadata": {},
   "outputs": [
    {
     "data": {
      "text/plain": [
       "array([ 4,  6,  8, 10, 12, 14, 16, 18, 20, 22, 24, 26, 28, 30, 32, 34, 36,\n",
       "       38])"
      ]
     },
     "execution_count": 39,
     "metadata": {},
     "output_type": "execute_result"
    }
   ],
   "source": [
    "array[condicion]"
   ]
  },
  {
   "cell_type": "code",
   "execution_count": null,
   "id": "7a9dca72",
   "metadata": {},
   "outputs": [],
   "source": []
  }
 ],
 "metadata": {
  "kernelspec": {
   "display_name": "Python 3",
   "language": "python",
   "name": "python3"
  },
  "language_info": {
   "codemirror_mode": {
    "name": "ipython",
    "version": 3
   },
   "file_extension": ".py",
   "mimetype": "text/x-python",
   "name": "python",
   "nbconvert_exporter": "python",
   "pygments_lexer": "ipython3",
   "version": "3.8.8"
  }
 },
 "nbformat": 4,
 "nbformat_minor": 5
}
