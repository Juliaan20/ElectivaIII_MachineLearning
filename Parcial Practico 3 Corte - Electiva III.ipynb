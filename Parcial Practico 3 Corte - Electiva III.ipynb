{
 "cells": [
  {
   "cell_type": "markdown",
   "id": "0bdce97a",
   "metadata": {},
   "source": [
    "# Punto1"
   ]
  },
  {
   "cell_type": "code",
   "execution_count": 40,
   "id": "7876f1bb",
   "metadata": {},
   "outputs": [
    {
     "name": "stdout",
     "output_type": "stream",
     "text": [
      "['programacion', 'IOT', 'calidad']\n",
      "['4.5', '3.8', '4.4']\n"
     ]
    }
   ],
   "source": [
    "#A.Crea una lista “materias” con los textos(materias) llamadas “programación, IOT, calidad”\n",
    "materias = ['programacion', 'IOT', 'calidad']\n",
    "print(materias)\n",
    "\n",
    "#B.Crea una lista “notas” con los valores para cada asignatura “4.5 , 3.8 , 4.4” respectivamente\n",
    "notas = ['4.5', '3.8', '4.4']\n",
    "print(notas)"
   ]
  },
  {
   "cell_type": "code",
   "execution_count": 98,
   "id": "937270c1",
   "metadata": {},
   "outputs": [
    {
     "data": {
      "text/html": [
       "<div>\n",
       "<style scoped>\n",
       "    .dataframe tbody tr th:only-of-type {\n",
       "        vertical-align: middle;\n",
       "    }\n",
       "\n",
       "    .dataframe tbody tr th {\n",
       "        vertical-align: top;\n",
       "    }\n",
       "\n",
       "    .dataframe thead th {\n",
       "        text-align: right;\n",
       "    }\n",
       "</style>\n",
       "<table border=\"1\" class=\"dataframe\">\n",
       "  <thead>\n",
       "    <tr style=\"text-align: right;\">\n",
       "      <th></th>\n",
       "      <th>0</th>\n",
       "    </tr>\n",
       "  </thead>\n",
       "  <tbody>\n",
       "    <tr>\n",
       "      <th>programacion</th>\n",
       "      <td>4.5</td>\n",
       "    </tr>\n",
       "    <tr>\n",
       "      <th>IOT</th>\n",
       "      <td>3.8</td>\n",
       "    </tr>\n",
       "    <tr>\n",
       "      <th>calidad</th>\n",
       "      <td>4.4</td>\n",
       "    </tr>\n",
       "  </tbody>\n",
       "</table>\n",
       "</div>"
      ],
      "text/plain": [
       "                0\n",
       "programacion  4.5\n",
       "IOT           3.8\n",
       "calidad       4.4"
      ]
     },
     "execution_count": 98,
     "metadata": {},
     "output_type": "execute_result"
    }
   ],
   "source": [
    "valores = pd.DataFrame(notas,materias)\n",
    "valores.head()"
   ]
  },
  {
   "cell_type": "code",
   "execution_count": 96,
   "id": "f0fc561e",
   "metadata": {},
   "outputs": [
    {
     "data": {
      "text/plain": [
       "programacion    4.5\n",
       "IOT             3.8\n",
       "calidad         4.4\n",
       "dtype: object"
      ]
     },
     "execution_count": 96,
     "metadata": {},
     "output_type": "execute_result"
    }
   ],
   "source": [
    "#C.Crea una lista donde las notas sean los valores y las materias sean los índices.\n",
    "\n",
    "import pandas as pd\n",
    "listadodenotas = pd.Series(notas,index = materias)\n",
    "listadodenotas"
   ]
  },
  {
   "cell_type": "code",
   "execution_count": 104,
   "id": "0e4b5d16",
   "metadata": {},
   "outputs": [
    {
     "data": {
      "text/plain": [
       "programacion    4.5\n",
       "IOT             3.8\n",
       "calidad         4.4\n",
       "nota_IOT        3.8\n",
       "dtype: object"
      ]
     },
     "execution_count": 104,
     "metadata": {},
     "output_type": "execute_result"
    }
   ],
   "source": [
    "#D.Crear una materia llamada “nota_IOT” la cual se le asignara la nota de IOT\n",
    "s.append(pd.Series(3.8, index=['nota_IOT']))"
   ]
  },
  {
   "cell_type": "markdown",
   "id": "df1ff71f",
   "metadata": {},
   "source": [
    "# Punto2"
   ]
  },
  {
   "cell_type": "code",
   "execution_count": 59,
   "id": "6ed15a83",
   "metadata": {},
   "outputs": [
    {
     "name": "stdout",
     "output_type": "stream",
     "text": [
      "     Mes  Ventas\n",
      "0  Marzo   30500\n",
      "1  Abril   35600\n",
      "2   Mayo   28300\n"
     ]
    }
   ],
   "source": [
    "#A.Crear un dataframe  con las ventas de 3 sucursales para los meses de marzo, abril y mayo\n",
    "import pandas as pd\n",
    "import numpy as np\n",
    "datos = {'Mes':['Marzo','Abril','Mayo'], 'Ventas':[30500, 35600, 28300]}\n",
    "contabilidad = pd.DataFrame(datos)\n",
    "print(contabilidad)"
   ]
  },
  {
   "cell_type": "code",
   "execution_count": 62,
   "id": "979cd9f3",
   "metadata": {},
   "outputs": [
    {
     "data": {
      "text/plain": [
       "array([230, 475, 268])"
      ]
     },
     "execution_count": 62,
     "metadata": {},
     "output_type": "execute_result"
    }
   ],
   "source": [
    "#B.Crear una variable “venta_marzo” que contenga una lista de 3 números enteres aleatorios entre 201 y 500\n",
    "venta_marzo = np.random.randint(201,500,3)\n",
    "venta_marzo"
   ]
  },
  {
   "cell_type": "code",
   "execution_count": 63,
   "id": "fa273736",
   "metadata": {},
   "outputs": [
    {
     "data": {
      "text/plain": [
       "array([208, 488, 498])"
      ]
     },
     "execution_count": 63,
     "metadata": {},
     "output_type": "execute_result"
    }
   ],
   "source": [
    "#C.Crear una variable “venta_abril” que contenga una lista de 3 números enteres aleatorios entre 201 y 500\n",
    "venta_abril = np.random.randint(201,500,3)\n",
    "venta_abril"
   ]
  },
  {
   "cell_type": "code",
   "execution_count": 64,
   "id": "968513d9",
   "metadata": {},
   "outputs": [
    {
     "data": {
      "text/plain": [
       "array([217, 294, 439])"
      ]
     },
     "execution_count": 64,
     "metadata": {},
     "output_type": "execute_result"
    }
   ],
   "source": [
    "#D.Crear una variable “venta_mayo” que contenga una lista de 3 números enteres aleatorios entre 201 y 500\n",
    "venta_mayo = np.random.randint(201,500,3)\n",
    "venta_mayo"
   ]
  },
  {
   "cell_type": "code",
   "execution_count": 66,
   "id": "f6935a90",
   "metadata": {},
   "outputs": [
    {
     "data": {
      "text/plain": [
       "['venta_marzo', 'venta_abril', 'venta_mayo']"
      ]
     },
     "execution_count": 66,
     "metadata": {},
     "output_type": "execute_result"
    }
   ],
   "source": [
    "#E.Crear una variable “fila” que contenga una lista con las palabras: venta_marzo, venta_abril, venta_mayo”\n",
    "fila = [\"venta_marzo\", \"venta_abril\", \"venta_mayo\"]\n",
    "fila"
   ]
  },
  {
   "cell_type": "code",
   "execution_count": 68,
   "id": "3c94eaa1",
   "metadata": {},
   "outputs": [
    {
     "name": "stdout",
     "output_type": "stream",
     "text": [
      "['sede1', 'sede2', 'sede3']\n"
     ]
    }
   ],
   "source": [
    "#F.Crear una variable “columna” que contenga una lista con las palabras: sede1, sede2, sede3”\n",
    "\n",
    "columna = [\"sede1\",\n",
    "           \"sede2\",\n",
    "           \"sede3\"]\n",
    "print(columna)"
   ]
  },
  {
   "cell_type": "code",
   "execution_count": 76,
   "id": "8f575e4b",
   "metadata": {},
   "outputs": [
    {
     "data": {
      "text/plain": [
       "[30500, 35600, 28300]"
      ]
     },
     "execution_count": 76,
     "metadata": {},
     "output_type": "execute_result"
    }
   ],
   "source": [
    "#G.Crear una variable “ventas” que contenga una lista con los valores de ventas de marzo, abril y mayo\n",
    "Ventas = [30500, 35600, 28300]\n",
    "Ventas"
   ]
  },
  {
   "cell_type": "code",
   "execution_count": 77,
   "id": "17e8bfcd",
   "metadata": {},
   "outputs": [
    {
     "data": {
      "text/html": [
       "<div>\n",
       "<style scoped>\n",
       "    .dataframe tbody tr th:only-of-type {\n",
       "        vertical-align: middle;\n",
       "    }\n",
       "\n",
       "    .dataframe tbody tr th {\n",
       "        vertical-align: top;\n",
       "    }\n",
       "\n",
       "    .dataframe thead th {\n",
       "        text-align: right;\n",
       "    }\n",
       "</style>\n",
       "<table border=\"1\" class=\"dataframe\">\n",
       "  <thead>\n",
       "    <tr style=\"text-align: right;\">\n",
       "      <th></th>\n",
       "      <th>0</th>\n",
       "    </tr>\n",
       "  </thead>\n",
       "  <tbody>\n",
       "    <tr>\n",
       "      <th>0</th>\n",
       "      <td>30500</td>\n",
       "    </tr>\n",
       "    <tr>\n",
       "      <th>1</th>\n",
       "      <td>35600</td>\n",
       "    </tr>\n",
       "    <tr>\n",
       "      <th>2</th>\n",
       "      <td>28300</td>\n",
       "    </tr>\n",
       "  </tbody>\n",
       "</table>\n",
       "</div>"
      ],
      "text/plain": [
       "       0\n",
       "0  30500\n",
       "1  35600\n",
       "2  28300"
      ]
     },
     "execution_count": 77,
     "metadata": {},
     "output_type": "execute_result"
    }
   ],
   "source": [
    "#H.Crear una varible “dataframe” que contenga las ventas, filas y columnas\n",
    "datos = pd.DataFrame(Ventas)\n",
    "datos.head()"
   ]
  },
  {
   "cell_type": "code",
   "execution_count": 110,
   "id": "6b1640bd",
   "metadata": {},
   "outputs": [
    {
     "data": {
      "text/html": [
       "<div>\n",
       "<style scoped>\n",
       "    .dataframe tbody tr th:only-of-type {\n",
       "        vertical-align: middle;\n",
       "    }\n",
       "\n",
       "    .dataframe tbody tr th {\n",
       "        vertical-align: top;\n",
       "    }\n",
       "\n",
       "    .dataframe thead th {\n",
       "        text-align: right;\n",
       "    }\n",
       "</style>\n",
       "<table border=\"1\" class=\"dataframe\">\n",
       "  <thead>\n",
       "    <tr style=\"text-align: right;\">\n",
       "      <th></th>\n",
       "      <th>SEDE1</th>\n",
       "      <th>SEDE2</th>\n",
       "      <th>SEDE3</th>\n",
       "    </tr>\n",
       "  </thead>\n",
       "  <tbody>\n",
       "    <tr>\n",
       "      <th>Marzo</th>\n",
       "      <td>230</td>\n",
       "      <td>475</td>\n",
       "      <td>268</td>\n",
       "    </tr>\n",
       "    <tr>\n",
       "      <th>Abril</th>\n",
       "      <td>208</td>\n",
       "      <td>488</td>\n",
       "      <td>498</td>\n",
       "    </tr>\n",
       "    <tr>\n",
       "      <th>Mayo</th>\n",
       "      <td>217</td>\n",
       "      <td>294</td>\n",
       "      <td>439</td>\n",
       "    </tr>\n",
       "  </tbody>\n",
       "</table>\n",
       "</div>"
      ],
      "text/plain": [
       "       SEDE1  SEDE2  SEDE3\n",
       "Marzo    230    475    268\n",
       "Abril    208    488    498\n",
       "Mayo     217    294    439"
      ]
     },
     "execution_count": 110,
     "metadata": {},
     "output_type": "execute_result"
    }
   ],
   "source": [
    "#I.Imprimir las ventas mes a mes por sede\n",
    "datos = pd.DataFrame([venta_marzo,venta_abril,venta_mayo], index = ['Marzo','Abril','Mayo'],columns = ['SEDE1','SEDE2','SEDE3'])\n",
    "datos"
   ]
  },
  {
   "cell_type": "code",
   "execution_count": null,
   "id": "d28cd48b",
   "metadata": {},
   "outputs": [],
   "source": []
  }
 ],
 "metadata": {
  "kernelspec": {
   "display_name": "Python 3 (ipykernel)",
   "language": "python",
   "name": "python3"
  },
  "language_info": {
   "codemirror_mode": {
    "name": "ipython",
    "version": 3
   },
   "file_extension": ".py",
   "mimetype": "text/x-python",
   "name": "python",
   "nbconvert_exporter": "python",
   "pygments_lexer": "ipython3",
   "version": "3.8.8"
  }
 },
 "nbformat": 4,
 "nbformat_minor": 5
}
