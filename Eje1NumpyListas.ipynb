{
 "cells": [
  {
   "cell_type": "code",
   "execution_count": 1,
   "id": "471c14af",
   "metadata": {},
   "outputs": [],
   "source": [
    "#Es una extensión de Python para trabajar con vectores y matrices\n",
    "#Es una librería de algebra  lienal muy rápida\n",
    "#Instalar numpy utilizamos el comanod ---   conda install numpy"
   ]
  },
  {
   "cell_type": "code",
   "execution_count": 2,
   "id": "400db59b",
   "metadata": {},
   "outputs": [],
   "source": [
    "import numpy as np"
   ]
  },
  {
   "cell_type": "code",
   "execution_count": 3,
   "id": "075ca8c0",
   "metadata": {},
   "outputs": [],
   "source": [
    "ls1 = [1,2,3,45,85]"
   ]
  },
  {
   "cell_type": "code",
   "execution_count": 4,
   "id": "7d2bfb7c",
   "metadata": {},
   "outputs": [],
   "source": [
    "array = np.array(ls1)"
   ]
  },
  {
   "cell_type": "code",
   "execution_count": 5,
   "id": "f7bfad2f",
   "metadata": {},
   "outputs": [
    {
     "data": {
      "text/plain": [
       "array([ 1,  2,  3, 45, 85])"
      ]
     },
     "execution_count": 5,
     "metadata": {},
     "output_type": "execute_result"
    }
   ],
   "source": [
    "array"
   ]
  },
  {
   "cell_type": "code",
   "execution_count": 6,
   "id": "a2697897",
   "metadata": {},
   "outputs": [],
   "source": [
    "ls2 = [[1,2,3],[8,5,2],[9,7,20]]"
   ]
  },
  {
   "cell_type": "code",
   "execution_count": 7,
   "id": "3bb05709",
   "metadata": {},
   "outputs": [],
   "source": [
    "array2 = np.array(ls2)"
   ]
  },
  {
   "cell_type": "code",
   "execution_count": 8,
   "id": "e4ab5006",
   "metadata": {},
   "outputs": [
    {
     "data": {
      "text/plain": [
       "array([[ 1,  2,  3],\n",
       "       [ 8,  5,  2],\n",
       "       [ 9,  7, 20]])"
      ]
     },
     "execution_count": 8,
     "metadata": {},
     "output_type": "execute_result"
    }
   ],
   "source": [
    "array2"
   ]
  },
  {
   "cell_type": "code",
   "execution_count": null,
   "id": "d78b8d06",
   "metadata": {},
   "outputs": [],
   "source": []
  },
  {
   "cell_type": "code",
   "execution_count": null,
   "id": "c9b4f536",
   "metadata": {},
   "outputs": [],
   "source": []
  }
 ],
 "metadata": {
  "kernelspec": {
   "display_name": "Python 3",
   "language": "python",
   "name": "python3"
  },
  "language_info": {
   "codemirror_mode": {
    "name": "ipython",
    "version": 3
   },
   "file_extension": ".py",
   "mimetype": "text/x-python",
   "name": "python",
   "nbconvert_exporter": "python",
   "pygments_lexer": "ipython3",
   "version": "3.8.8"
  }
 },
 "nbformat": 4,
 "nbformat_minor": 5
}
